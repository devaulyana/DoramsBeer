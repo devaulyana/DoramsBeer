{
 "cells": [
  {
   "cell_type": "markdown",
   "metadata": {},
   "source": [
    "Подклчение к базе данных **pivo_commets**"
   ]
  },
  {
   "cell_type": "code",
   "execution_count": 138,
   "metadata": {},
   "outputs": [
    {
     "name": "stdout",
     "output_type": "stream",
     "text": [
      "Соединение с базой данных успешно установлено\n",
      "Данные сохранены в файл comments_train.csv\n"
     ]
    }
   ],
   "source": [
    "import psycopg2\n",
    "import pandas as pd\n",
    "from sqlalchemy import create_engine\n",
    "from psycopg2 import OperationalError\n",
    "\n",
    "def create_connection(db_name, db_user, db_password, db_host, db_port):\n",
    "    connection = None\n",
    "    try:\n",
    "        connection = psycopg2.connect(\n",
    "            database=db_name,\n",
    "            user=db_user,\n",
    "            password=db_password,\n",
    "            host=db_host,\n",
    "            port=db_port\n",
    "        )\n",
    "        print(\"Соединение с базой данных успешно установлено\")\n",
    "    except OperationalError as e:\n",
    "        print(f\"Произошла ошибка '{e}'\")\n",
    "    return connection\n",
    "\n",
    "def fetch_data_and_save_to_file(engine, file_path, table_name, schema=\"public\"):\n",
    "    # Используйте with блок для создания соединения\n",
    "    with engine.connect() as connection:\n",
    "        # SQL-запрос для выборки данных из указанной таблицы и схемы\n",
    "        sql_query = f\"SELECT * FROM {schema}.{table_name};\"\n",
    "        # Выполняем SQL-запрос и получаем результат в виде DataFrame\n",
    "        df = pd.read_sql(sql_query, connection)\n",
    "\n",
    "        # Записываем DataFrame в файл\n",
    "        df.to_csv(file_path, index=False)\n",
    "        print(f\"Данные сохранены в файл {file_path}\")\n",
    "\n",
    "# Задайте параметры подключения к базе данных\n",
    "db_params = {\n",
    "    \"db_name\": \"pivo_commets\",\n",
    "    \"db_user\": \"postgres\",\n",
    "    \"db_password\": \"1111\",\n",
    "    \"db_host\": \"127.0.0.1\",\n",
    "    \"db_port\": \"5432\"\n",
    "}\n",
    "# Задайте путь к файлу, в который будут сохраняться данные\n",
    "file_path = \"comments_train.csv\"\n",
    "\n",
    "# Задайте имя конкретной таблицы в базе данных\n",
    "table_name = \"beer_comments\"\n",
    "\n",
    "# Создайте соединение с базой данных\n",
    "conn = create_connection(**db_params)\n",
    "cursor = conn.cursor()\n",
    "\n",
    "# Создайте строку подключения SQLAlchemy\n",
    "db_uri = f\"postgresql://{db_params['db_user']}:{db_params['db_password']}@{db_params['db_host']}:{db_params['db_port']}/{db_params['db_name']}\"\n",
    "# Создайте движок SQLAlchemy\n",
    "engine = create_engine(db_uri)\n",
    "\n",
    "try:\n",
    "    # Вызываем функцию для извлечения данных и сохранения их в файл\n",
    "    fetch_data_and_save_to_file(engine, file_path, table_name)\n",
    "\n",
    "except KeyboardInterrupt:\n",
    "    print(\"Скрипт завершен\")\n",
    "finally:\n",
    "    # Закрываем соединение с базой данных\n",
    "    cursor.close()\n",
    "    conn.close()"
   ]
  },
  {
   "cell_type": "code",
   "execution_count": 139,
   "metadata": {},
   "outputs": [
    {
     "data": {
      "text/html": [
       "<div>\n",
       "<style scoped>\n",
       "    .dataframe tbody tr th:only-of-type {\n",
       "        vertical-align: middle;\n",
       "    }\n",
       "\n",
       "    .dataframe tbody tr th {\n",
       "        vertical-align: top;\n",
       "    }\n",
       "\n",
       "    .dataframe thead th {\n",
       "        text-align: right;\n",
       "    }\n",
       "</style>\n",
       "<table border=\"1\" class=\"dataframe\">\n",
       "  <thead>\n",
       "    <tr style=\"text-align: right;\">\n",
       "      <th></th>\n",
       "      <th>id</th>\n",
       "      <th>text</th>\n",
       "      <th>beer_rating</th>\n",
       "    </tr>\n",
       "  </thead>\n",
       "  <tbody>\n",
       "    <tr>\n",
       "      <th>0</th>\n",
       "      <td>1</td>\n",
       "      <td>После просмотра этой дорамы я впервые подумал,...</td>\n",
       "      <td>9.0</td>\n",
       "    </tr>\n",
       "    <tr>\n",
       "      <th>1</th>\n",
       "      <td>2</td>\n",
       "      <td>Алкоголь в этой дораме – не просто напиток, а ...</td>\n",
       "      <td>8.0</td>\n",
       "    </tr>\n",
       "    <tr>\n",
       "      <th>2</th>\n",
       "      <td>3</td>\n",
       "      <td>Главные герои этой дорамы – настоящие ценители...</td>\n",
       "      <td>9.5</td>\n",
       "    </tr>\n",
       "    <tr>\n",
       "      <th>3</th>\n",
       "      <td>4</td>\n",
       "      <td>Пивная тема в этой дораме раскрыта на высшем у...</td>\n",
       "      <td>9.0</td>\n",
       "    </tr>\n",
       "    <tr>\n",
       "      <th>4</th>\n",
       "      <td>5</td>\n",
       "      <td>Эта дорама – настоящая ржачка! Персонажи знают...</td>\n",
       "      <td>8.5</td>\n",
       "    </tr>\n",
       "    <tr>\n",
       "      <th>...</th>\n",
       "      <td>...</td>\n",
       "      <td>...</td>\n",
       "      <td>...</td>\n",
       "    </tr>\n",
       "    <tr>\n",
       "      <th>196</th>\n",
       "      <td>235</td>\n",
       "      <td>Всей команде спасибо, давно не смотрела русски...</td>\n",
       "      <td>4.0</td>\n",
       "    </tr>\n",
       "    <tr>\n",
       "      <th>197</th>\n",
       "      <td>236</td>\n",
       "      <td>Монтаж кто делал? - Глухие? Почему голоса еле ...</td>\n",
       "      <td>1.0</td>\n",
       "    </tr>\n",
       "    <tr>\n",
       "      <th>198</th>\n",
       "      <td>237</td>\n",
       "      <td>Четкий нет слов, странно что оценка на кинопои...</td>\n",
       "      <td>5.0</td>\n",
       "    </tr>\n",
       "    <tr>\n",
       "      <th>199</th>\n",
       "      <td>238</td>\n",
       "      <td>Очень классный фильм! :-)</td>\n",
       "      <td>7.0</td>\n",
       "    </tr>\n",
       "    <tr>\n",
       "      <th>200</th>\n",
       "      <td>239</td>\n",
       "      <td>Очень понравился и посмеялись от души</td>\n",
       "      <td>8.0</td>\n",
       "    </tr>\n",
       "  </tbody>\n",
       "</table>\n",
       "<p>201 rows × 3 columns</p>\n",
       "</div>"
      ],
      "text/plain": [
       "      id                                               text  beer_rating\n",
       "0      1  После просмотра этой дорамы я впервые подумал,...          9.0\n",
       "1      2  Алкоголь в этой дораме – не просто напиток, а ...          8.0\n",
       "2      3  Главные герои этой дорамы – настоящие ценители...          9.5\n",
       "3      4  Пивная тема в этой дораме раскрыта на высшем у...          9.0\n",
       "4      5  Эта дорама – настоящая ржачка! Персонажи знают...          8.5\n",
       "..   ...                                                ...          ...\n",
       "196  235  Всей команде спасибо, давно не смотрела русски...          4.0\n",
       "197  236  Монтаж кто делал? - Глухие? Почему голоса еле ...          1.0\n",
       "198  237  Четкий нет слов, странно что оценка на кинопои...          5.0\n",
       "199  238                          Очень классный фильм! :-)          7.0\n",
       "200  239              Очень понравился и посмеялись от души          8.0\n",
       "\n",
       "[201 rows x 3 columns]"
      ]
     },
     "execution_count": 139,
     "metadata": {},
     "output_type": "execute_result"
    }
   ],
   "source": [
    "comments_train = pd.read_csv(r\"F:\\beeeer\\base\\comments_train.csv\")\n",
    "comments_train"
   ]
  },
  {
   "cell_type": "code",
   "execution_count": 140,
   "metadata": {},
   "outputs": [],
   "source": [
    "import plotly.express as px\n",
    "\n",
    "def plot_continious_hist(data, feature, hue=None, bins=100, figsize=(800, 500)):\n",
    "    if hue is not None:\n",
    "        data = data.sort_values(by=hue)\n",
    "        \n",
    "    hist_fig = px.histogram(\n",
    "        data,\n",
    "        x=feature,\n",
    "        color=hue if hue is not None else None,\n",
    "        nbins=bins,\n",
    "        marginal=\"box\",\n",
    "        opacity=0.8)\n",
    "    hist_fig.update_layout(\n",
    "        title=f\"{feature} distribution\",\n",
    "        plot_bgcolor='white',\n",
    "        bargap=0.2,\n",
    "        width=figsize[0],\n",
    "        height=figsize[1],\n",
    "        yaxis_title='Amount')\n",
    "    \n",
    "    hist_fig.show()"
   ]
  },
  {
   "cell_type": "code",
   "execution_count": 141,
   "metadata": {},
   "outputs": [
    {
     "data": {
      "application/vnd.plotly.v1+json": {
       "config": {
        "plotlyServerURL": "https://plot.ly"
       },
       "data": [
        {
         "alignmentgroup": "True",
         "bingroup": "x",
         "hovertemplate": "utterance_length=%{x}<br>count=%{y}<extra></extra>",
         "legendgroup": "",
         "marker": {
          "color": "#636efa",
          "opacity": 0.8,
          "pattern": {
           "shape": ""
          }
         },
         "name": "",
         "nbinsx": 100,
         "offsetgroup": "",
         "orientation": "v",
         "showlegend": false,
         "type": "histogram",
         "x": [
          157,
          139,
          142,
          157,
          130,
          131,
          127,
          127,
          126,
          120,
          52,
          147,
          142,
          128,
          176,
          139,
          126,
          139,
          124,
          161,
          129,
          159,
          153,
          153,
          156,
          137,
          168,
          164,
          154,
          139,
          161,
          185,
          143,
          158,
          152,
          171,
          147,
          164,
          153,
          100,
          133,
          95,
          128,
          131,
          103,
          124,
          145,
          136,
          132,
          333,
          66,
          50,
          149,
          141,
          180,
          290,
          81,
          329,
          130,
          120,
          117,
          152,
          64,
          129,
          504,
          168,
          45,
          374,
          87,
          89,
          155,
          24,
          23,
          63,
          76,
          305,
          222,
          1851,
          65,
          256,
          47,
          249,
          99,
          81,
          46,
          426,
          174,
          43,
          986,
          360,
          35,
          871,
          133,
          162,
          59,
          63,
          48,
          102,
          141,
          48,
          89,
          148,
          38,
          124,
          130,
          138,
          136,
          19,
          367,
          237,
          41,
          69,
          154,
          144,
          92,
          54,
          40,
          146,
          64,
          155,
          100,
          82,
          425,
          152,
          219,
          178,
          91,
          256,
          238,
          209,
          57,
          271,
          46,
          214,
          231,
          274,
          238,
          205,
          224,
          187,
          214,
          207,
          240,
          297,
          238,
          262,
          227,
          122,
          246,
          116,
          94,
          92,
          69,
          117,
          205,
          178,
          208,
          158,
          190,
          234,
          21,
          234,
          34,
          153,
          34,
          106,
          170,
          182,
          214,
          170,
          182,
          169,
          288,
          286,
          271,
          240,
          261,
          226,
          233,
          176,
          179,
          247,
          128,
          104,
          114,
          132,
          119,
          48,
          107,
          42,
          31,
          25,
          158,
          59,
          154,
          48,
          99,
          95,
          62,
          25,
          37
         ],
         "xaxis": "x",
         "yaxis": "y"
        },
        {
         "alignmentgroup": "True",
         "hovertemplate": "utterance_length=%{x}<extra></extra>",
         "legendgroup": "",
         "marker": {
          "color": "#636efa"
         },
         "name": "",
         "notched": true,
         "offsetgroup": "",
         "showlegend": false,
         "type": "box",
         "x": [
          157,
          139,
          142,
          157,
          130,
          131,
          127,
          127,
          126,
          120,
          52,
          147,
          142,
          128,
          176,
          139,
          126,
          139,
          124,
          161,
          129,
          159,
          153,
          153,
          156,
          137,
          168,
          164,
          154,
          139,
          161,
          185,
          143,
          158,
          152,
          171,
          147,
          164,
          153,
          100,
          133,
          95,
          128,
          131,
          103,
          124,
          145,
          136,
          132,
          333,
          66,
          50,
          149,
          141,
          180,
          290,
          81,
          329,
          130,
          120,
          117,
          152,
          64,
          129,
          504,
          168,
          45,
          374,
          87,
          89,
          155,
          24,
          23,
          63,
          76,
          305,
          222,
          1851,
          65,
          256,
          47,
          249,
          99,
          81,
          46,
          426,
          174,
          43,
          986,
          360,
          35,
          871,
          133,
          162,
          59,
          63,
          48,
          102,
          141,
          48,
          89,
          148,
          38,
          124,
          130,
          138,
          136,
          19,
          367,
          237,
          41,
          69,
          154,
          144,
          92,
          54,
          40,
          146,
          64,
          155,
          100,
          82,
          425,
          152,
          219,
          178,
          91,
          256,
          238,
          209,
          57,
          271,
          46,
          214,
          231,
          274,
          238,
          205,
          224,
          187,
          214,
          207,
          240,
          297,
          238,
          262,
          227,
          122,
          246,
          116,
          94,
          92,
          69,
          117,
          205,
          178,
          208,
          158,
          190,
          234,
          21,
          234,
          34,
          153,
          34,
          106,
          170,
          182,
          214,
          170,
          182,
          169,
          288,
          286,
          271,
          240,
          261,
          226,
          233,
          176,
          179,
          247,
          128,
          104,
          114,
          132,
          119,
          48,
          107,
          42,
          31,
          25,
          158,
          59,
          154,
          48,
          99,
          95,
          62,
          25,
          37
         ],
         "xaxis": "x2",
         "yaxis": "y2"
        }
       ],
       "layout": {
        "bargap": 0.2,
        "barmode": "relative",
        "height": 500,
        "legend": {
         "tracegroupgap": 0
        },
        "margin": {
         "t": 60
        },
        "plot_bgcolor": "white",
        "template": {
         "data": {
          "bar": [
           {
            "error_x": {
             "color": "#2a3f5f"
            },
            "error_y": {
             "color": "#2a3f5f"
            },
            "marker": {
             "line": {
              "color": "#E5ECF6",
              "width": 0.5
             },
             "pattern": {
              "fillmode": "overlay",
              "size": 10,
              "solidity": 0.2
             }
            },
            "type": "bar"
           }
          ],
          "barpolar": [
           {
            "marker": {
             "line": {
              "color": "#E5ECF6",
              "width": 0.5
             },
             "pattern": {
              "fillmode": "overlay",
              "size": 10,
              "solidity": 0.2
             }
            },
            "type": "barpolar"
           }
          ],
          "carpet": [
           {
            "aaxis": {
             "endlinecolor": "#2a3f5f",
             "gridcolor": "white",
             "linecolor": "white",
             "minorgridcolor": "white",
             "startlinecolor": "#2a3f5f"
            },
            "baxis": {
             "endlinecolor": "#2a3f5f",
             "gridcolor": "white",
             "linecolor": "white",
             "minorgridcolor": "white",
             "startlinecolor": "#2a3f5f"
            },
            "type": "carpet"
           }
          ],
          "choropleth": [
           {
            "colorbar": {
             "outlinewidth": 0,
             "ticks": ""
            },
            "type": "choropleth"
           }
          ],
          "contour": [
           {
            "colorbar": {
             "outlinewidth": 0,
             "ticks": ""
            },
            "colorscale": [
             [
              0,
              "#0d0887"
             ],
             [
              0.1111111111111111,
              "#46039f"
             ],
             [
              0.2222222222222222,
              "#7201a8"
             ],
             [
              0.3333333333333333,
              "#9c179e"
             ],
             [
              0.4444444444444444,
              "#bd3786"
             ],
             [
              0.5555555555555556,
              "#d8576b"
             ],
             [
              0.6666666666666666,
              "#ed7953"
             ],
             [
              0.7777777777777778,
              "#fb9f3a"
             ],
             [
              0.8888888888888888,
              "#fdca26"
             ],
             [
              1,
              "#f0f921"
             ]
            ],
            "type": "contour"
           }
          ],
          "contourcarpet": [
           {
            "colorbar": {
             "outlinewidth": 0,
             "ticks": ""
            },
            "type": "contourcarpet"
           }
          ],
          "heatmap": [
           {
            "colorbar": {
             "outlinewidth": 0,
             "ticks": ""
            },
            "colorscale": [
             [
              0,
              "#0d0887"
             ],
             [
              0.1111111111111111,
              "#46039f"
             ],
             [
              0.2222222222222222,
              "#7201a8"
             ],
             [
              0.3333333333333333,
              "#9c179e"
             ],
             [
              0.4444444444444444,
              "#bd3786"
             ],
             [
              0.5555555555555556,
              "#d8576b"
             ],
             [
              0.6666666666666666,
              "#ed7953"
             ],
             [
              0.7777777777777778,
              "#fb9f3a"
             ],
             [
              0.8888888888888888,
              "#fdca26"
             ],
             [
              1,
              "#f0f921"
             ]
            ],
            "type": "heatmap"
           }
          ],
          "heatmapgl": [
           {
            "colorbar": {
             "outlinewidth": 0,
             "ticks": ""
            },
            "colorscale": [
             [
              0,
              "#0d0887"
             ],
             [
              0.1111111111111111,
              "#46039f"
             ],
             [
              0.2222222222222222,
              "#7201a8"
             ],
             [
              0.3333333333333333,
              "#9c179e"
             ],
             [
              0.4444444444444444,
              "#bd3786"
             ],
             [
              0.5555555555555556,
              "#d8576b"
             ],
             [
              0.6666666666666666,
              "#ed7953"
             ],
             [
              0.7777777777777778,
              "#fb9f3a"
             ],
             [
              0.8888888888888888,
              "#fdca26"
             ],
             [
              1,
              "#f0f921"
             ]
            ],
            "type": "heatmapgl"
           }
          ],
          "histogram": [
           {
            "marker": {
             "pattern": {
              "fillmode": "overlay",
              "size": 10,
              "solidity": 0.2
             }
            },
            "type": "histogram"
           }
          ],
          "histogram2d": [
           {
            "colorbar": {
             "outlinewidth": 0,
             "ticks": ""
            },
            "colorscale": [
             [
              0,
              "#0d0887"
             ],
             [
              0.1111111111111111,
              "#46039f"
             ],
             [
              0.2222222222222222,
              "#7201a8"
             ],
             [
              0.3333333333333333,
              "#9c179e"
             ],
             [
              0.4444444444444444,
              "#bd3786"
             ],
             [
              0.5555555555555556,
              "#d8576b"
             ],
             [
              0.6666666666666666,
              "#ed7953"
             ],
             [
              0.7777777777777778,
              "#fb9f3a"
             ],
             [
              0.8888888888888888,
              "#fdca26"
             ],
             [
              1,
              "#f0f921"
             ]
            ],
            "type": "histogram2d"
           }
          ],
          "histogram2dcontour": [
           {
            "colorbar": {
             "outlinewidth": 0,
             "ticks": ""
            },
            "colorscale": [
             [
              0,
              "#0d0887"
             ],
             [
              0.1111111111111111,
              "#46039f"
             ],
             [
              0.2222222222222222,
              "#7201a8"
             ],
             [
              0.3333333333333333,
              "#9c179e"
             ],
             [
              0.4444444444444444,
              "#bd3786"
             ],
             [
              0.5555555555555556,
              "#d8576b"
             ],
             [
              0.6666666666666666,
              "#ed7953"
             ],
             [
              0.7777777777777778,
              "#fb9f3a"
             ],
             [
              0.8888888888888888,
              "#fdca26"
             ],
             [
              1,
              "#f0f921"
             ]
            ],
            "type": "histogram2dcontour"
           }
          ],
          "mesh3d": [
           {
            "colorbar": {
             "outlinewidth": 0,
             "ticks": ""
            },
            "type": "mesh3d"
           }
          ],
          "parcoords": [
           {
            "line": {
             "colorbar": {
              "outlinewidth": 0,
              "ticks": ""
             }
            },
            "type": "parcoords"
           }
          ],
          "pie": [
           {
            "automargin": true,
            "type": "pie"
           }
          ],
          "scatter": [
           {
            "fillpattern": {
             "fillmode": "overlay",
             "size": 10,
             "solidity": 0.2
            },
            "type": "scatter"
           }
          ],
          "scatter3d": [
           {
            "line": {
             "colorbar": {
              "outlinewidth": 0,
              "ticks": ""
             }
            },
            "marker": {
             "colorbar": {
              "outlinewidth": 0,
              "ticks": ""
             }
            },
            "type": "scatter3d"
           }
          ],
          "scattercarpet": [
           {
            "marker": {
             "colorbar": {
              "outlinewidth": 0,
              "ticks": ""
             }
            },
            "type": "scattercarpet"
           }
          ],
          "scattergeo": [
           {
            "marker": {
             "colorbar": {
              "outlinewidth": 0,
              "ticks": ""
             }
            },
            "type": "scattergeo"
           }
          ],
          "scattergl": [
           {
            "marker": {
             "colorbar": {
              "outlinewidth": 0,
              "ticks": ""
             }
            },
            "type": "scattergl"
           }
          ],
          "scattermapbox": [
           {
            "marker": {
             "colorbar": {
              "outlinewidth": 0,
              "ticks": ""
             }
            },
            "type": "scattermapbox"
           }
          ],
          "scatterpolar": [
           {
            "marker": {
             "colorbar": {
              "outlinewidth": 0,
              "ticks": ""
             }
            },
            "type": "scatterpolar"
           }
          ],
          "scatterpolargl": [
           {
            "marker": {
             "colorbar": {
              "outlinewidth": 0,
              "ticks": ""
             }
            },
            "type": "scatterpolargl"
           }
          ],
          "scatterternary": [
           {
            "marker": {
             "colorbar": {
              "outlinewidth": 0,
              "ticks": ""
             }
            },
            "type": "scatterternary"
           }
          ],
          "surface": [
           {
            "colorbar": {
             "outlinewidth": 0,
             "ticks": ""
            },
            "colorscale": [
             [
              0,
              "#0d0887"
             ],
             [
              0.1111111111111111,
              "#46039f"
             ],
             [
              0.2222222222222222,
              "#7201a8"
             ],
             [
              0.3333333333333333,
              "#9c179e"
             ],
             [
              0.4444444444444444,
              "#bd3786"
             ],
             [
              0.5555555555555556,
              "#d8576b"
             ],
             [
              0.6666666666666666,
              "#ed7953"
             ],
             [
              0.7777777777777778,
              "#fb9f3a"
             ],
             [
              0.8888888888888888,
              "#fdca26"
             ],
             [
              1,
              "#f0f921"
             ]
            ],
            "type": "surface"
           }
          ],
          "table": [
           {
            "cells": {
             "fill": {
              "color": "#EBF0F8"
             },
             "line": {
              "color": "white"
             }
            },
            "header": {
             "fill": {
              "color": "#C8D4E3"
             },
             "line": {
              "color": "white"
             }
            },
            "type": "table"
           }
          ]
         },
         "layout": {
          "annotationdefaults": {
           "arrowcolor": "#2a3f5f",
           "arrowhead": 0,
           "arrowwidth": 1
          },
          "autotypenumbers": "strict",
          "coloraxis": {
           "colorbar": {
            "outlinewidth": 0,
            "ticks": ""
           }
          },
          "colorscale": {
           "diverging": [
            [
             0,
             "#8e0152"
            ],
            [
             0.1,
             "#c51b7d"
            ],
            [
             0.2,
             "#de77ae"
            ],
            [
             0.3,
             "#f1b6da"
            ],
            [
             0.4,
             "#fde0ef"
            ],
            [
             0.5,
             "#f7f7f7"
            ],
            [
             0.6,
             "#e6f5d0"
            ],
            [
             0.7,
             "#b8e186"
            ],
            [
             0.8,
             "#7fbc41"
            ],
            [
             0.9,
             "#4d9221"
            ],
            [
             1,
             "#276419"
            ]
           ],
           "sequential": [
            [
             0,
             "#0d0887"
            ],
            [
             0.1111111111111111,
             "#46039f"
            ],
            [
             0.2222222222222222,
             "#7201a8"
            ],
            [
             0.3333333333333333,
             "#9c179e"
            ],
            [
             0.4444444444444444,
             "#bd3786"
            ],
            [
             0.5555555555555556,
             "#d8576b"
            ],
            [
             0.6666666666666666,
             "#ed7953"
            ],
            [
             0.7777777777777778,
             "#fb9f3a"
            ],
            [
             0.8888888888888888,
             "#fdca26"
            ],
            [
             1,
             "#f0f921"
            ]
           ],
           "sequentialminus": [
            [
             0,
             "#0d0887"
            ],
            [
             0.1111111111111111,
             "#46039f"
            ],
            [
             0.2222222222222222,
             "#7201a8"
            ],
            [
             0.3333333333333333,
             "#9c179e"
            ],
            [
             0.4444444444444444,
             "#bd3786"
            ],
            [
             0.5555555555555556,
             "#d8576b"
            ],
            [
             0.6666666666666666,
             "#ed7953"
            ],
            [
             0.7777777777777778,
             "#fb9f3a"
            ],
            [
             0.8888888888888888,
             "#fdca26"
            ],
            [
             1,
             "#f0f921"
            ]
           ]
          },
          "colorway": [
           "#636efa",
           "#EF553B",
           "#00cc96",
           "#ab63fa",
           "#FFA15A",
           "#19d3f3",
           "#FF6692",
           "#B6E880",
           "#FF97FF",
           "#FECB52"
          ],
          "font": {
           "color": "#2a3f5f"
          },
          "geo": {
           "bgcolor": "white",
           "lakecolor": "white",
           "landcolor": "#E5ECF6",
           "showlakes": true,
           "showland": true,
           "subunitcolor": "white"
          },
          "hoverlabel": {
           "align": "left"
          },
          "hovermode": "closest",
          "mapbox": {
           "style": "light"
          },
          "paper_bgcolor": "white",
          "plot_bgcolor": "#E5ECF6",
          "polar": {
           "angularaxis": {
            "gridcolor": "white",
            "linecolor": "white",
            "ticks": ""
           },
           "bgcolor": "#E5ECF6",
           "radialaxis": {
            "gridcolor": "white",
            "linecolor": "white",
            "ticks": ""
           }
          },
          "scene": {
           "xaxis": {
            "backgroundcolor": "#E5ECF6",
            "gridcolor": "white",
            "gridwidth": 2,
            "linecolor": "white",
            "showbackground": true,
            "ticks": "",
            "zerolinecolor": "white"
           },
           "yaxis": {
            "backgroundcolor": "#E5ECF6",
            "gridcolor": "white",
            "gridwidth": 2,
            "linecolor": "white",
            "showbackground": true,
            "ticks": "",
            "zerolinecolor": "white"
           },
           "zaxis": {
            "backgroundcolor": "#E5ECF6",
            "gridcolor": "white",
            "gridwidth": 2,
            "linecolor": "white",
            "showbackground": true,
            "ticks": "",
            "zerolinecolor": "white"
           }
          },
          "shapedefaults": {
           "line": {
            "color": "#2a3f5f"
           }
          },
          "ternary": {
           "aaxis": {
            "gridcolor": "white",
            "linecolor": "white",
            "ticks": ""
           },
           "baxis": {
            "gridcolor": "white",
            "linecolor": "white",
            "ticks": ""
           },
           "bgcolor": "#E5ECF6",
           "caxis": {
            "gridcolor": "white",
            "linecolor": "white",
            "ticks": ""
           }
          },
          "title": {
           "x": 0.05
          },
          "xaxis": {
           "automargin": true,
           "gridcolor": "white",
           "linecolor": "white",
           "ticks": "",
           "title": {
            "standoff": 15
           },
           "zerolinecolor": "white",
           "zerolinewidth": 2
          },
          "yaxis": {
           "automargin": true,
           "gridcolor": "white",
           "linecolor": "white",
           "ticks": "",
           "title": {
            "standoff": 15
           },
           "zerolinecolor": "white",
           "zerolinewidth": 2
          }
         }
        },
        "title": {
         "text": "utterance_length distribution"
        },
        "width": 800,
        "xaxis": {
         "anchor": "y",
         "domain": [
          0,
          1
         ],
         "title": {
          "text": "utterance_length"
         }
        },
        "xaxis2": {
         "anchor": "y2",
         "domain": [
          0,
          1
         ],
         "matches": "x",
         "showgrid": true,
         "showticklabels": false
        },
        "yaxis": {
         "anchor": "x",
         "domain": [
          0,
          0.8316
         ],
         "title": {
          "text": "Amount"
         }
        },
        "yaxis2": {
         "anchor": "x2",
         "domain": [
          0.8416,
          1
         ],
         "matches": "y2",
         "showgrid": false,
         "showline": false,
         "showticklabels": false,
         "ticks": ""
        }
       }
      },
      "text/html": [
       "<div>                            <div id=\"d47fd92a-7f18-46bb-8549-b5a884d7f230\" class=\"plotly-graph-div\" style=\"height:500px; width:800px;\"></div>            <script type=\"text/javascript\">                require([\"plotly\"], function(Plotly) {                    window.PLOTLYENV=window.PLOTLYENV || {};                                    if (document.getElementById(\"d47fd92a-7f18-46bb-8549-b5a884d7f230\")) {                    Plotly.newPlot(                        \"d47fd92a-7f18-46bb-8549-b5a884d7f230\",                        [{\"alignmentgroup\":\"True\",\"bingroup\":\"x\",\"hovertemplate\":\"utterance_length=%{x}<br>count=%{y}<extra></extra>\",\"legendgroup\":\"\",\"marker\":{\"color\":\"#636efa\",\"opacity\":0.8,\"pattern\":{\"shape\":\"\"}},\"name\":\"\",\"nbinsx\":100,\"offsetgroup\":\"\",\"orientation\":\"v\",\"showlegend\":false,\"x\":[157,139,142,157,130,131,127,127,126,120,52,147,142,128,176,139,126,139,124,161,129,159,153,153,156,137,168,164,154,139,161,185,143,158,152,171,147,164,153,100,133,95,128,131,103,124,145,136,132,333,66,50,149,141,180,290,81,329,130,120,117,152,64,129,504,168,45,374,87,89,155,24,23,63,76,305,222,1851,65,256,47,249,99,81,46,426,174,43,986,360,35,871,133,162,59,63,48,102,141,48,89,148,38,124,130,138,136,19,367,237,41,69,154,144,92,54,40,146,64,155,100,82,425,152,219,178,91,256,238,209,57,271,46,214,231,274,238,205,224,187,214,207,240,297,238,262,227,122,246,116,94,92,69,117,205,178,208,158,190,234,21,234,34,153,34,106,170,182,214,170,182,169,288,286,271,240,261,226,233,176,179,247,128,104,114,132,119,48,107,42,31,25,158,59,154,48,99,95,62,25,37],\"xaxis\":\"x\",\"yaxis\":\"y\",\"type\":\"histogram\"},{\"alignmentgroup\":\"True\",\"hovertemplate\":\"utterance_length=%{x}<extra></extra>\",\"legendgroup\":\"\",\"marker\":{\"color\":\"#636efa\"},\"name\":\"\",\"notched\":true,\"offsetgroup\":\"\",\"showlegend\":false,\"x\":[157,139,142,157,130,131,127,127,126,120,52,147,142,128,176,139,126,139,124,161,129,159,153,153,156,137,168,164,154,139,161,185,143,158,152,171,147,164,153,100,133,95,128,131,103,124,145,136,132,333,66,50,149,141,180,290,81,329,130,120,117,152,64,129,504,168,45,374,87,89,155,24,23,63,76,305,222,1851,65,256,47,249,99,81,46,426,174,43,986,360,35,871,133,162,59,63,48,102,141,48,89,148,38,124,130,138,136,19,367,237,41,69,154,144,92,54,40,146,64,155,100,82,425,152,219,178,91,256,238,209,57,271,46,214,231,274,238,205,224,187,214,207,240,297,238,262,227,122,246,116,94,92,69,117,205,178,208,158,190,234,21,234,34,153,34,106,170,182,214,170,182,169,288,286,271,240,261,226,233,176,179,247,128,104,114,132,119,48,107,42,31,25,158,59,154,48,99,95,62,25,37],\"xaxis\":\"x2\",\"yaxis\":\"y2\",\"type\":\"box\"}],                        {\"template\":{\"data\":{\"histogram2dcontour\":[{\"type\":\"histogram2dcontour\",\"colorbar\":{\"outlinewidth\":0,\"ticks\":\"\"},\"colorscale\":[[0.0,\"#0d0887\"],[0.1111111111111111,\"#46039f\"],[0.2222222222222222,\"#7201a8\"],[0.3333333333333333,\"#9c179e\"],[0.4444444444444444,\"#bd3786\"],[0.5555555555555556,\"#d8576b\"],[0.6666666666666666,\"#ed7953\"],[0.7777777777777778,\"#fb9f3a\"],[0.8888888888888888,\"#fdca26\"],[1.0,\"#f0f921\"]]}],\"choropleth\":[{\"type\":\"choropleth\",\"colorbar\":{\"outlinewidth\":0,\"ticks\":\"\"}}],\"histogram2d\":[{\"type\":\"histogram2d\",\"colorbar\":{\"outlinewidth\":0,\"ticks\":\"\"},\"colorscale\":[[0.0,\"#0d0887\"],[0.1111111111111111,\"#46039f\"],[0.2222222222222222,\"#7201a8\"],[0.3333333333333333,\"#9c179e\"],[0.4444444444444444,\"#bd3786\"],[0.5555555555555556,\"#d8576b\"],[0.6666666666666666,\"#ed7953\"],[0.7777777777777778,\"#fb9f3a\"],[0.8888888888888888,\"#fdca26\"],[1.0,\"#f0f921\"]]}],\"heatmap\":[{\"type\":\"heatmap\",\"colorbar\":{\"outlinewidth\":0,\"ticks\":\"\"},\"colorscale\":[[0.0,\"#0d0887\"],[0.1111111111111111,\"#46039f\"],[0.2222222222222222,\"#7201a8\"],[0.3333333333333333,\"#9c179e\"],[0.4444444444444444,\"#bd3786\"],[0.5555555555555556,\"#d8576b\"],[0.6666666666666666,\"#ed7953\"],[0.7777777777777778,\"#fb9f3a\"],[0.8888888888888888,\"#fdca26\"],[1.0,\"#f0f921\"]]}],\"heatmapgl\":[{\"type\":\"heatmapgl\",\"colorbar\":{\"outlinewidth\":0,\"ticks\":\"\"},\"colorscale\":[[0.0,\"#0d0887\"],[0.1111111111111111,\"#46039f\"],[0.2222222222222222,\"#7201a8\"],[0.3333333333333333,\"#9c179e\"],[0.4444444444444444,\"#bd3786\"],[0.5555555555555556,\"#d8576b\"],[0.6666666666666666,\"#ed7953\"],[0.7777777777777778,\"#fb9f3a\"],[0.8888888888888888,\"#fdca26\"],[1.0,\"#f0f921\"]]}],\"contourcarpet\":[{\"type\":\"contourcarpet\",\"colorbar\":{\"outlinewidth\":0,\"ticks\":\"\"}}],\"contour\":[{\"type\":\"contour\",\"colorbar\":{\"outlinewidth\":0,\"ticks\":\"\"},\"colorscale\":[[0.0,\"#0d0887\"],[0.1111111111111111,\"#46039f\"],[0.2222222222222222,\"#7201a8\"],[0.3333333333333333,\"#9c179e\"],[0.4444444444444444,\"#bd3786\"],[0.5555555555555556,\"#d8576b\"],[0.6666666666666666,\"#ed7953\"],[0.7777777777777778,\"#fb9f3a\"],[0.8888888888888888,\"#fdca26\"],[1.0,\"#f0f921\"]]}],\"surface\":[{\"type\":\"surface\",\"colorbar\":{\"outlinewidth\":0,\"ticks\":\"\"},\"colorscale\":[[0.0,\"#0d0887\"],[0.1111111111111111,\"#46039f\"],[0.2222222222222222,\"#7201a8\"],[0.3333333333333333,\"#9c179e\"],[0.4444444444444444,\"#bd3786\"],[0.5555555555555556,\"#d8576b\"],[0.6666666666666666,\"#ed7953\"],[0.7777777777777778,\"#fb9f3a\"],[0.8888888888888888,\"#fdca26\"],[1.0,\"#f0f921\"]]}],\"mesh3d\":[{\"type\":\"mesh3d\",\"colorbar\":{\"outlinewidth\":0,\"ticks\":\"\"}}],\"scatter\":[{\"fillpattern\":{\"fillmode\":\"overlay\",\"size\":10,\"solidity\":0.2},\"type\":\"scatter\"}],\"parcoords\":[{\"type\":\"parcoords\",\"line\":{\"colorbar\":{\"outlinewidth\":0,\"ticks\":\"\"}}}],\"scatterpolargl\":[{\"type\":\"scatterpolargl\",\"marker\":{\"colorbar\":{\"outlinewidth\":0,\"ticks\":\"\"}}}],\"bar\":[{\"error_x\":{\"color\":\"#2a3f5f\"},\"error_y\":{\"color\":\"#2a3f5f\"},\"marker\":{\"line\":{\"color\":\"#E5ECF6\",\"width\":0.5},\"pattern\":{\"fillmode\":\"overlay\",\"size\":10,\"solidity\":0.2}},\"type\":\"bar\"}],\"scattergeo\":[{\"type\":\"scattergeo\",\"marker\":{\"colorbar\":{\"outlinewidth\":0,\"ticks\":\"\"}}}],\"scatterpolar\":[{\"type\":\"scatterpolar\",\"marker\":{\"colorbar\":{\"outlinewidth\":0,\"ticks\":\"\"}}}],\"histogram\":[{\"marker\":{\"pattern\":{\"fillmode\":\"overlay\",\"size\":10,\"solidity\":0.2}},\"type\":\"histogram\"}],\"scattergl\":[{\"type\":\"scattergl\",\"marker\":{\"colorbar\":{\"outlinewidth\":0,\"ticks\":\"\"}}}],\"scatter3d\":[{\"type\":\"scatter3d\",\"line\":{\"colorbar\":{\"outlinewidth\":0,\"ticks\":\"\"}},\"marker\":{\"colorbar\":{\"outlinewidth\":0,\"ticks\":\"\"}}}],\"scattermapbox\":[{\"type\":\"scattermapbox\",\"marker\":{\"colorbar\":{\"outlinewidth\":0,\"ticks\":\"\"}}}],\"scatterternary\":[{\"type\":\"scatterternary\",\"marker\":{\"colorbar\":{\"outlinewidth\":0,\"ticks\":\"\"}}}],\"scattercarpet\":[{\"type\":\"scattercarpet\",\"marker\":{\"colorbar\":{\"outlinewidth\":0,\"ticks\":\"\"}}}],\"carpet\":[{\"aaxis\":{\"endlinecolor\":\"#2a3f5f\",\"gridcolor\":\"white\",\"linecolor\":\"white\",\"minorgridcolor\":\"white\",\"startlinecolor\":\"#2a3f5f\"},\"baxis\":{\"endlinecolor\":\"#2a3f5f\",\"gridcolor\":\"white\",\"linecolor\":\"white\",\"minorgridcolor\":\"white\",\"startlinecolor\":\"#2a3f5f\"},\"type\":\"carpet\"}],\"table\":[{\"cells\":{\"fill\":{\"color\":\"#EBF0F8\"},\"line\":{\"color\":\"white\"}},\"header\":{\"fill\":{\"color\":\"#C8D4E3\"},\"line\":{\"color\":\"white\"}},\"type\":\"table\"}],\"barpolar\":[{\"marker\":{\"line\":{\"color\":\"#E5ECF6\",\"width\":0.5},\"pattern\":{\"fillmode\":\"overlay\",\"size\":10,\"solidity\":0.2}},\"type\":\"barpolar\"}],\"pie\":[{\"automargin\":true,\"type\":\"pie\"}]},\"layout\":{\"autotypenumbers\":\"strict\",\"colorway\":[\"#636efa\",\"#EF553B\",\"#00cc96\",\"#ab63fa\",\"#FFA15A\",\"#19d3f3\",\"#FF6692\",\"#B6E880\",\"#FF97FF\",\"#FECB52\"],\"font\":{\"color\":\"#2a3f5f\"},\"hovermode\":\"closest\",\"hoverlabel\":{\"align\":\"left\"},\"paper_bgcolor\":\"white\",\"plot_bgcolor\":\"#E5ECF6\",\"polar\":{\"bgcolor\":\"#E5ECF6\",\"angularaxis\":{\"gridcolor\":\"white\",\"linecolor\":\"white\",\"ticks\":\"\"},\"radialaxis\":{\"gridcolor\":\"white\",\"linecolor\":\"white\",\"ticks\":\"\"}},\"ternary\":{\"bgcolor\":\"#E5ECF6\",\"aaxis\":{\"gridcolor\":\"white\",\"linecolor\":\"white\",\"ticks\":\"\"},\"baxis\":{\"gridcolor\":\"white\",\"linecolor\":\"white\",\"ticks\":\"\"},\"caxis\":{\"gridcolor\":\"white\",\"linecolor\":\"white\",\"ticks\":\"\"}},\"coloraxis\":{\"colorbar\":{\"outlinewidth\":0,\"ticks\":\"\"}},\"colorscale\":{\"sequential\":[[0.0,\"#0d0887\"],[0.1111111111111111,\"#46039f\"],[0.2222222222222222,\"#7201a8\"],[0.3333333333333333,\"#9c179e\"],[0.4444444444444444,\"#bd3786\"],[0.5555555555555556,\"#d8576b\"],[0.6666666666666666,\"#ed7953\"],[0.7777777777777778,\"#fb9f3a\"],[0.8888888888888888,\"#fdca26\"],[1.0,\"#f0f921\"]],\"sequentialminus\":[[0.0,\"#0d0887\"],[0.1111111111111111,\"#46039f\"],[0.2222222222222222,\"#7201a8\"],[0.3333333333333333,\"#9c179e\"],[0.4444444444444444,\"#bd3786\"],[0.5555555555555556,\"#d8576b\"],[0.6666666666666666,\"#ed7953\"],[0.7777777777777778,\"#fb9f3a\"],[0.8888888888888888,\"#fdca26\"],[1.0,\"#f0f921\"]],\"diverging\":[[0,\"#8e0152\"],[0.1,\"#c51b7d\"],[0.2,\"#de77ae\"],[0.3,\"#f1b6da\"],[0.4,\"#fde0ef\"],[0.5,\"#f7f7f7\"],[0.6,\"#e6f5d0\"],[0.7,\"#b8e186\"],[0.8,\"#7fbc41\"],[0.9,\"#4d9221\"],[1,\"#276419\"]]},\"xaxis\":{\"gridcolor\":\"white\",\"linecolor\":\"white\",\"ticks\":\"\",\"title\":{\"standoff\":15},\"zerolinecolor\":\"white\",\"automargin\":true,\"zerolinewidth\":2},\"yaxis\":{\"gridcolor\":\"white\",\"linecolor\":\"white\",\"ticks\":\"\",\"title\":{\"standoff\":15},\"zerolinecolor\":\"white\",\"automargin\":true,\"zerolinewidth\":2},\"scene\":{\"xaxis\":{\"backgroundcolor\":\"#E5ECF6\",\"gridcolor\":\"white\",\"linecolor\":\"white\",\"showbackground\":true,\"ticks\":\"\",\"zerolinecolor\":\"white\",\"gridwidth\":2},\"yaxis\":{\"backgroundcolor\":\"#E5ECF6\",\"gridcolor\":\"white\",\"linecolor\":\"white\",\"showbackground\":true,\"ticks\":\"\",\"zerolinecolor\":\"white\",\"gridwidth\":2},\"zaxis\":{\"backgroundcolor\":\"#E5ECF6\",\"gridcolor\":\"white\",\"linecolor\":\"white\",\"showbackground\":true,\"ticks\":\"\",\"zerolinecolor\":\"white\",\"gridwidth\":2}},\"shapedefaults\":{\"line\":{\"color\":\"#2a3f5f\"}},\"annotationdefaults\":{\"arrowcolor\":\"#2a3f5f\",\"arrowhead\":0,\"arrowwidth\":1},\"geo\":{\"bgcolor\":\"white\",\"landcolor\":\"#E5ECF6\",\"subunitcolor\":\"white\",\"showland\":true,\"showlakes\":true,\"lakecolor\":\"white\"},\"title\":{\"x\":0.05},\"mapbox\":{\"style\":\"light\"}}},\"xaxis\":{\"anchor\":\"y\",\"domain\":[0.0,1.0],\"title\":{\"text\":\"utterance_length\"}},\"yaxis\":{\"anchor\":\"x\",\"domain\":[0.0,0.8316],\"title\":{\"text\":\"Amount\"}},\"xaxis2\":{\"anchor\":\"y2\",\"domain\":[0.0,1.0],\"matches\":\"x\",\"showticklabels\":false,\"showgrid\":true},\"yaxis2\":{\"anchor\":\"x2\",\"domain\":[0.8416,1.0],\"matches\":\"y2\",\"showticklabels\":false,\"showline\":false,\"ticks\":\"\",\"showgrid\":false},\"legend\":{\"tracegroupgap\":0},\"margin\":{\"t\":60},\"barmode\":\"relative\",\"title\":{\"text\":\"utterance_length distribution\"},\"plot_bgcolor\":\"white\",\"bargap\":0.2,\"width\":800,\"height\":500},                        {\"responsive\": true}                    ).then(function(){\n",
       "                            \n",
       "var gd = document.getElementById('d47fd92a-7f18-46bb-8549-b5a884d7f230');\n",
       "var x = new MutationObserver(function (mutations, observer) {{\n",
       "        var display = window.getComputedStyle(gd).display;\n",
       "        if (!display || display === 'none') {{\n",
       "            console.log([gd, 'removed!']);\n",
       "            Plotly.purge(gd);\n",
       "            observer.disconnect();\n",
       "        }}\n",
       "}});\n",
       "\n",
       "// Listen for the removal of the full notebook cells\n",
       "var notebookContainer = gd.closest('#notebook-container');\n",
       "if (notebookContainer) {{\n",
       "    x.observe(notebookContainer, {childList: true});\n",
       "}}\n",
       "\n",
       "// Listen for the clearing of the current output cell\n",
       "var outputEl = gd.closest('.output');\n",
       "if (outputEl) {{\n",
       "    x.observe(outputEl, {childList: true});\n",
       "}}\n",
       "\n",
       "                        })                };                });            </script>        </div>"
      ]
     },
     "metadata": {},
     "output_type": "display_data"
    },
    {
     "data": {
      "text/plain": [
       "count     201.000000\n",
       "mean      165.835821\n",
       "std       164.809581\n",
       "min        19.000000\n",
       "25%        95.000000\n",
       "50%       142.000000\n",
       "75%       187.000000\n",
       "max      1851.000000\n",
       "Name: utterance_length, dtype: float64"
      ]
     },
     "execution_count": 141,
     "metadata": {},
     "output_type": "execute_result"
    }
   ],
   "source": [
    "comments_train[\"utterance_length\"] = comments_train[\"text\"].replace(\" \", \"\").apply(lambda x: len(x))\n",
    "\n",
    "plot_continious_hist(comments_train, \"utterance_length\")\n",
    "comments_train[\"utterance_length\"].describe()"
   ]
  },
  {
   "cell_type": "code",
   "execution_count": 142,
   "metadata": {},
   "outputs": [
    {
     "data": {
      "text/html": [
       "<div>\n",
       "<style scoped>\n",
       "    .dataframe tbody tr th:only-of-type {\n",
       "        vertical-align: middle;\n",
       "    }\n",
       "\n",
       "    .dataframe tbody tr th {\n",
       "        vertical-align: top;\n",
       "    }\n",
       "\n",
       "    .dataframe thead th {\n",
       "        text-align: right;\n",
       "    }\n",
       "</style>\n",
       "<table border=\"1\" class=\"dataframe\">\n",
       "  <thead>\n",
       "    <tr style=\"text-align: right;\">\n",
       "      <th></th>\n",
       "      <th>id</th>\n",
       "      <th>text</th>\n",
       "      <th>beer_rating</th>\n",
       "      <th>utterance_length</th>\n",
       "    </tr>\n",
       "  </thead>\n",
       "  <tbody>\n",
       "    <tr>\n",
       "      <th>0</th>\n",
       "      <td>1</td>\n",
       "      <td>После просмотра этой дорамы я впервые подумал,...</td>\n",
       "      <td>9.0</td>\n",
       "      <td>157</td>\n",
       "    </tr>\n",
       "    <tr>\n",
       "      <th>1</th>\n",
       "      <td>2</td>\n",
       "      <td>Алкоголь в этой дораме – не просто напиток, а ...</td>\n",
       "      <td>8.0</td>\n",
       "      <td>139</td>\n",
       "    </tr>\n",
       "    <tr>\n",
       "      <th>2</th>\n",
       "      <td>3</td>\n",
       "      <td>Главные герои этой дорамы – настоящие ценители...</td>\n",
       "      <td>9.5</td>\n",
       "      <td>142</td>\n",
       "    </tr>\n",
       "    <tr>\n",
       "      <th>3</th>\n",
       "      <td>4</td>\n",
       "      <td>Пивная тема в этой дораме раскрыта на высшем у...</td>\n",
       "      <td>9.0</td>\n",
       "      <td>157</td>\n",
       "    </tr>\n",
       "    <tr>\n",
       "      <th>4</th>\n",
       "      <td>5</td>\n",
       "      <td>Эта дорама – настоящая ржачка! Персонажи знают...</td>\n",
       "      <td>8.5</td>\n",
       "      <td>130</td>\n",
       "    </tr>\n",
       "    <tr>\n",
       "      <th>...</th>\n",
       "      <td>...</td>\n",
       "      <td>...</td>\n",
       "      <td>...</td>\n",
       "      <td>...</td>\n",
       "    </tr>\n",
       "    <tr>\n",
       "      <th>196</th>\n",
       "      <td>235</td>\n",
       "      <td>Всей команде спасибо, давно не смотрела русски...</td>\n",
       "      <td>4.0</td>\n",
       "      <td>99</td>\n",
       "    </tr>\n",
       "    <tr>\n",
       "      <th>197</th>\n",
       "      <td>236</td>\n",
       "      <td>Монтаж кто делал? - Глухие? Почему голоса еле ...</td>\n",
       "      <td>1.0</td>\n",
       "      <td>95</td>\n",
       "    </tr>\n",
       "    <tr>\n",
       "      <th>198</th>\n",
       "      <td>237</td>\n",
       "      <td>Четкий нет слов, странно что оценка на кинопои...</td>\n",
       "      <td>5.0</td>\n",
       "      <td>62</td>\n",
       "    </tr>\n",
       "    <tr>\n",
       "      <th>199</th>\n",
       "      <td>238</td>\n",
       "      <td>Очень классный фильм! :-)</td>\n",
       "      <td>7.0</td>\n",
       "      <td>25</td>\n",
       "    </tr>\n",
       "    <tr>\n",
       "      <th>200</th>\n",
       "      <td>239</td>\n",
       "      <td>Очень понравился и посмеялись от души</td>\n",
       "      <td>8.0</td>\n",
       "      <td>37</td>\n",
       "    </tr>\n",
       "  </tbody>\n",
       "</table>\n",
       "<p>201 rows × 4 columns</p>\n",
       "</div>"
      ],
      "text/plain": [
       "      id                                               text  beer_rating  \\\n",
       "0      1  После просмотра этой дорамы я впервые подумал,...          9.0   \n",
       "1      2  Алкоголь в этой дораме – не просто напиток, а ...          8.0   \n",
       "2      3  Главные герои этой дорамы – настоящие ценители...          9.5   \n",
       "3      4  Пивная тема в этой дораме раскрыта на высшем у...          9.0   \n",
       "4      5  Эта дорама – настоящая ржачка! Персонажи знают...          8.5   \n",
       "..   ...                                                ...          ...   \n",
       "196  235  Всей команде спасибо, давно не смотрела русски...          4.0   \n",
       "197  236  Монтаж кто делал? - Глухие? Почему голоса еле ...          1.0   \n",
       "198  237  Четкий нет слов, странно что оценка на кинопои...          5.0   \n",
       "199  238                          Очень классный фильм! :-)          7.0   \n",
       "200  239              Очень понравился и посмеялись от души          8.0   \n",
       "\n",
       "     utterance_length  \n",
       "0                 157  \n",
       "1                 139  \n",
       "2                 142  \n",
       "3                 157  \n",
       "4                 130  \n",
       "..                ...  \n",
       "196                99  \n",
       "197                95  \n",
       "198                62  \n",
       "199                25  \n",
       "200                37  \n",
       "\n",
       "[201 rows x 4 columns]"
      ]
     },
     "execution_count": 142,
     "metadata": {},
     "output_type": "execute_result"
    }
   ],
   "source": [
    "comments_train"
   ]
  },
  {
   "cell_type": "code",
   "execution_count": 143,
   "metadata": {},
   "outputs": [
    {
     "name": "stdout",
     "output_type": "stream",
     "text": [
      "      id                                               text  beer_rating  \\\n",
      "0      1  После просмотра этой дорамы я впервые подумал,...          9.0   \n",
      "1      2  Алкоголь в этой дораме – не просто напиток, а ...          8.0   \n",
      "2      3  Главные герои этой дорамы – настоящие ценители...          9.5   \n",
      "3      4  Пивная тема в этой дораме раскрыта на высшем у...          9.0   \n",
      "4      5  Эта дорама – настоящая ржачка! Персонажи знают...          8.5   \n",
      "..   ...                                                ...          ...   \n",
      "196  235  Всей команде спасибо, давно не смотрела русски...          4.0   \n",
      "197  236  Монтаж кто делал? - Глухие? Почему голоса еле ...          1.0   \n",
      "198  237  Четкий нет слов, странно что оценка на кинопои...          5.0   \n",
      "199  238                          Очень классный фильм! :-)          7.0   \n",
      "200  239              Очень понравился и посмеялись от души          8.0   \n",
      "\n",
      "     utterance_length  \n",
      "0                 157  \n",
      "1                 139  \n",
      "2                 142  \n",
      "3                 157  \n",
      "4                 130  \n",
      "..                ...  \n",
      "196                99  \n",
      "197                95  \n",
      "198                62  \n",
      "199                25  \n",
      "200                37  \n",
      "\n",
      "[196 rows x 4 columns]\n"
     ]
    }
   ],
   "source": [
    "bottom_rows = comments_train.nsmallest(5, 'utterance_length')\n",
    "comments_train = comments_train.drop(bottom_rows.index)\n",
    "\n",
    "print(comments_train)\n"
   ]
  },
  {
   "cell_type": "code",
   "execution_count": 144,
   "metadata": {},
   "outputs": [],
   "source": [
    "import emoji\n",
    "import re\n",
    "import pandas as pd\n",
    "\n",
    "def remove_emoji(input_text):\n",
    "    cleaned_text = re.sub(r'(:[^:\\s]+:|[\\U00010000-\\U0010ffff])', '', input_text)\n",
    "    return cleaned_text\n",
    "\n",
    "# Применяем функцию remove_emoji к каждой ячейке в DataFrame\n",
    "comments_train_copy = comments_train.applymap(lambda x: remove_emoji(str(x)))\n"
   ]
  },
  {
   "cell_type": "code",
   "execution_count": 145,
   "metadata": {},
   "outputs": [
    {
     "data": {
      "application/vnd.plotly.v1+json": {
       "config": {
        "plotlyServerURL": "https://plot.ly"
       },
       "data": [
        {
         "alignmentgroup": "True",
         "bingroup": "x",
         "hovertemplate": "utterance_length=%{x}<br>count=%{y}<extra></extra>",
         "legendgroup": "",
         "marker": {
          "color": "#636efa",
          "opacity": 0.8,
          "pattern": {
           "shape": ""
          }
         },
         "name": "",
         "nbinsx": 100,
         "offsetgroup": "",
         "orientation": "v",
         "showlegend": false,
         "type": "histogram",
         "x": [
          157,
          139,
          142,
          157,
          130,
          131,
          127,
          127,
          126,
          120,
          52,
          147,
          142,
          128,
          176,
          139,
          126,
          139,
          124,
          161,
          129,
          159,
          153,
          153,
          156,
          137,
          168,
          164,
          154,
          139,
          161,
          185,
          143,
          158,
          152,
          171,
          147,
          164,
          153,
          100,
          133,
          95,
          128,
          131,
          103,
          124,
          145,
          136,
          132,
          333,
          66,
          50,
          149,
          141,
          180,
          290,
          81,
          329,
          130,
          120,
          117,
          152,
          64,
          129,
          504,
          168,
          45,
          374,
          87,
          89,
          155,
          63,
          76,
          305,
          222,
          1851,
          65,
          256,
          47,
          249,
          99,
          81,
          46,
          426,
          174,
          43,
          986,
          360,
          35,
          871,
          133,
          162,
          59,
          63,
          48,
          102,
          141,
          48,
          89,
          148,
          38,
          124,
          130,
          138,
          136,
          367,
          237,
          41,
          69,
          154,
          144,
          92,
          54,
          40,
          146,
          64,
          155,
          100,
          82,
          425,
          152,
          219,
          178,
          91,
          256,
          238,
          209,
          57,
          271,
          46,
          214,
          231,
          274,
          238,
          205,
          224,
          187,
          214,
          207,
          240,
          297,
          238,
          262,
          227,
          122,
          246,
          116,
          94,
          92,
          69,
          117,
          205,
          178,
          208,
          158,
          190,
          234,
          234,
          34,
          153,
          34,
          106,
          170,
          182,
          214,
          170,
          182,
          169,
          288,
          286,
          271,
          240,
          261,
          226,
          233,
          176,
          179,
          247,
          128,
          104,
          114,
          132,
          119,
          48,
          107,
          42,
          31,
          158,
          59,
          154,
          48,
          99,
          95,
          62,
          25,
          37
         ],
         "xaxis": "x",
         "yaxis": "y"
        },
        {
         "alignmentgroup": "True",
         "hovertemplate": "utterance_length=%{x}<extra></extra>",
         "legendgroup": "",
         "marker": {
          "color": "#636efa"
         },
         "name": "",
         "notched": true,
         "offsetgroup": "",
         "showlegend": false,
         "type": "box",
         "x": [
          157,
          139,
          142,
          157,
          130,
          131,
          127,
          127,
          126,
          120,
          52,
          147,
          142,
          128,
          176,
          139,
          126,
          139,
          124,
          161,
          129,
          159,
          153,
          153,
          156,
          137,
          168,
          164,
          154,
          139,
          161,
          185,
          143,
          158,
          152,
          171,
          147,
          164,
          153,
          100,
          133,
          95,
          128,
          131,
          103,
          124,
          145,
          136,
          132,
          333,
          66,
          50,
          149,
          141,
          180,
          290,
          81,
          329,
          130,
          120,
          117,
          152,
          64,
          129,
          504,
          168,
          45,
          374,
          87,
          89,
          155,
          63,
          76,
          305,
          222,
          1851,
          65,
          256,
          47,
          249,
          99,
          81,
          46,
          426,
          174,
          43,
          986,
          360,
          35,
          871,
          133,
          162,
          59,
          63,
          48,
          102,
          141,
          48,
          89,
          148,
          38,
          124,
          130,
          138,
          136,
          367,
          237,
          41,
          69,
          154,
          144,
          92,
          54,
          40,
          146,
          64,
          155,
          100,
          82,
          425,
          152,
          219,
          178,
          91,
          256,
          238,
          209,
          57,
          271,
          46,
          214,
          231,
          274,
          238,
          205,
          224,
          187,
          214,
          207,
          240,
          297,
          238,
          262,
          227,
          122,
          246,
          116,
          94,
          92,
          69,
          117,
          205,
          178,
          208,
          158,
          190,
          234,
          234,
          34,
          153,
          34,
          106,
          170,
          182,
          214,
          170,
          182,
          169,
          288,
          286,
          271,
          240,
          261,
          226,
          233,
          176,
          179,
          247,
          128,
          104,
          114,
          132,
          119,
          48,
          107,
          42,
          31,
          158,
          59,
          154,
          48,
          99,
          95,
          62,
          25,
          37
         ],
         "xaxis": "x2",
         "yaxis": "y2"
        }
       ],
       "layout": {
        "bargap": 0.2,
        "barmode": "relative",
        "height": 500,
        "legend": {
         "tracegroupgap": 0
        },
        "margin": {
         "t": 60
        },
        "plot_bgcolor": "white",
        "template": {
         "data": {
          "bar": [
           {
            "error_x": {
             "color": "#2a3f5f"
            },
            "error_y": {
             "color": "#2a3f5f"
            },
            "marker": {
             "line": {
              "color": "#E5ECF6",
              "width": 0.5
             },
             "pattern": {
              "fillmode": "overlay",
              "size": 10,
              "solidity": 0.2
             }
            },
            "type": "bar"
           }
          ],
          "barpolar": [
           {
            "marker": {
             "line": {
              "color": "#E5ECF6",
              "width": 0.5
             },
             "pattern": {
              "fillmode": "overlay",
              "size": 10,
              "solidity": 0.2
             }
            },
            "type": "barpolar"
           }
          ],
          "carpet": [
           {
            "aaxis": {
             "endlinecolor": "#2a3f5f",
             "gridcolor": "white",
             "linecolor": "white",
             "minorgridcolor": "white",
             "startlinecolor": "#2a3f5f"
            },
            "baxis": {
             "endlinecolor": "#2a3f5f",
             "gridcolor": "white",
             "linecolor": "white",
             "minorgridcolor": "white",
             "startlinecolor": "#2a3f5f"
            },
            "type": "carpet"
           }
          ],
          "choropleth": [
           {
            "colorbar": {
             "outlinewidth": 0,
             "ticks": ""
            },
            "type": "choropleth"
           }
          ],
          "contour": [
           {
            "colorbar": {
             "outlinewidth": 0,
             "ticks": ""
            },
            "colorscale": [
             [
              0,
              "#0d0887"
             ],
             [
              0.1111111111111111,
              "#46039f"
             ],
             [
              0.2222222222222222,
              "#7201a8"
             ],
             [
              0.3333333333333333,
              "#9c179e"
             ],
             [
              0.4444444444444444,
              "#bd3786"
             ],
             [
              0.5555555555555556,
              "#d8576b"
             ],
             [
              0.6666666666666666,
              "#ed7953"
             ],
             [
              0.7777777777777778,
              "#fb9f3a"
             ],
             [
              0.8888888888888888,
              "#fdca26"
             ],
             [
              1,
              "#f0f921"
             ]
            ],
            "type": "contour"
           }
          ],
          "contourcarpet": [
           {
            "colorbar": {
             "outlinewidth": 0,
             "ticks": ""
            },
            "type": "contourcarpet"
           }
          ],
          "heatmap": [
           {
            "colorbar": {
             "outlinewidth": 0,
             "ticks": ""
            },
            "colorscale": [
             [
              0,
              "#0d0887"
             ],
             [
              0.1111111111111111,
              "#46039f"
             ],
             [
              0.2222222222222222,
              "#7201a8"
             ],
             [
              0.3333333333333333,
              "#9c179e"
             ],
             [
              0.4444444444444444,
              "#bd3786"
             ],
             [
              0.5555555555555556,
              "#d8576b"
             ],
             [
              0.6666666666666666,
              "#ed7953"
             ],
             [
              0.7777777777777778,
              "#fb9f3a"
             ],
             [
              0.8888888888888888,
              "#fdca26"
             ],
             [
              1,
              "#f0f921"
             ]
            ],
            "type": "heatmap"
           }
          ],
          "heatmapgl": [
           {
            "colorbar": {
             "outlinewidth": 0,
             "ticks": ""
            },
            "colorscale": [
             [
              0,
              "#0d0887"
             ],
             [
              0.1111111111111111,
              "#46039f"
             ],
             [
              0.2222222222222222,
              "#7201a8"
             ],
             [
              0.3333333333333333,
              "#9c179e"
             ],
             [
              0.4444444444444444,
              "#bd3786"
             ],
             [
              0.5555555555555556,
              "#d8576b"
             ],
             [
              0.6666666666666666,
              "#ed7953"
             ],
             [
              0.7777777777777778,
              "#fb9f3a"
             ],
             [
              0.8888888888888888,
              "#fdca26"
             ],
             [
              1,
              "#f0f921"
             ]
            ],
            "type": "heatmapgl"
           }
          ],
          "histogram": [
           {
            "marker": {
             "pattern": {
              "fillmode": "overlay",
              "size": 10,
              "solidity": 0.2
             }
            },
            "type": "histogram"
           }
          ],
          "histogram2d": [
           {
            "colorbar": {
             "outlinewidth": 0,
             "ticks": ""
            },
            "colorscale": [
             [
              0,
              "#0d0887"
             ],
             [
              0.1111111111111111,
              "#46039f"
             ],
             [
              0.2222222222222222,
              "#7201a8"
             ],
             [
              0.3333333333333333,
              "#9c179e"
             ],
             [
              0.4444444444444444,
              "#bd3786"
             ],
             [
              0.5555555555555556,
              "#d8576b"
             ],
             [
              0.6666666666666666,
              "#ed7953"
             ],
             [
              0.7777777777777778,
              "#fb9f3a"
             ],
             [
              0.8888888888888888,
              "#fdca26"
             ],
             [
              1,
              "#f0f921"
             ]
            ],
            "type": "histogram2d"
           }
          ],
          "histogram2dcontour": [
           {
            "colorbar": {
             "outlinewidth": 0,
             "ticks": ""
            },
            "colorscale": [
             [
              0,
              "#0d0887"
             ],
             [
              0.1111111111111111,
              "#46039f"
             ],
             [
              0.2222222222222222,
              "#7201a8"
             ],
             [
              0.3333333333333333,
              "#9c179e"
             ],
             [
              0.4444444444444444,
              "#bd3786"
             ],
             [
              0.5555555555555556,
              "#d8576b"
             ],
             [
              0.6666666666666666,
              "#ed7953"
             ],
             [
              0.7777777777777778,
              "#fb9f3a"
             ],
             [
              0.8888888888888888,
              "#fdca26"
             ],
             [
              1,
              "#f0f921"
             ]
            ],
            "type": "histogram2dcontour"
           }
          ],
          "mesh3d": [
           {
            "colorbar": {
             "outlinewidth": 0,
             "ticks": ""
            },
            "type": "mesh3d"
           }
          ],
          "parcoords": [
           {
            "line": {
             "colorbar": {
              "outlinewidth": 0,
              "ticks": ""
             }
            },
            "type": "parcoords"
           }
          ],
          "pie": [
           {
            "automargin": true,
            "type": "pie"
           }
          ],
          "scatter": [
           {
            "fillpattern": {
             "fillmode": "overlay",
             "size": 10,
             "solidity": 0.2
            },
            "type": "scatter"
           }
          ],
          "scatter3d": [
           {
            "line": {
             "colorbar": {
              "outlinewidth": 0,
              "ticks": ""
             }
            },
            "marker": {
             "colorbar": {
              "outlinewidth": 0,
              "ticks": ""
             }
            },
            "type": "scatter3d"
           }
          ],
          "scattercarpet": [
           {
            "marker": {
             "colorbar": {
              "outlinewidth": 0,
              "ticks": ""
             }
            },
            "type": "scattercarpet"
           }
          ],
          "scattergeo": [
           {
            "marker": {
             "colorbar": {
              "outlinewidth": 0,
              "ticks": ""
             }
            },
            "type": "scattergeo"
           }
          ],
          "scattergl": [
           {
            "marker": {
             "colorbar": {
              "outlinewidth": 0,
              "ticks": ""
             }
            },
            "type": "scattergl"
           }
          ],
          "scattermapbox": [
           {
            "marker": {
             "colorbar": {
              "outlinewidth": 0,
              "ticks": ""
             }
            },
            "type": "scattermapbox"
           }
          ],
          "scatterpolar": [
           {
            "marker": {
             "colorbar": {
              "outlinewidth": 0,
              "ticks": ""
             }
            },
            "type": "scatterpolar"
           }
          ],
          "scatterpolargl": [
           {
            "marker": {
             "colorbar": {
              "outlinewidth": 0,
              "ticks": ""
             }
            },
            "type": "scatterpolargl"
           }
          ],
          "scatterternary": [
           {
            "marker": {
             "colorbar": {
              "outlinewidth": 0,
              "ticks": ""
             }
            },
            "type": "scatterternary"
           }
          ],
          "surface": [
           {
            "colorbar": {
             "outlinewidth": 0,
             "ticks": ""
            },
            "colorscale": [
             [
              0,
              "#0d0887"
             ],
             [
              0.1111111111111111,
              "#46039f"
             ],
             [
              0.2222222222222222,
              "#7201a8"
             ],
             [
              0.3333333333333333,
              "#9c179e"
             ],
             [
              0.4444444444444444,
              "#bd3786"
             ],
             [
              0.5555555555555556,
              "#d8576b"
             ],
             [
              0.6666666666666666,
              "#ed7953"
             ],
             [
              0.7777777777777778,
              "#fb9f3a"
             ],
             [
              0.8888888888888888,
              "#fdca26"
             ],
             [
              1,
              "#f0f921"
             ]
            ],
            "type": "surface"
           }
          ],
          "table": [
           {
            "cells": {
             "fill": {
              "color": "#EBF0F8"
             },
             "line": {
              "color": "white"
             }
            },
            "header": {
             "fill": {
              "color": "#C8D4E3"
             },
             "line": {
              "color": "white"
             }
            },
            "type": "table"
           }
          ]
         },
         "layout": {
          "annotationdefaults": {
           "arrowcolor": "#2a3f5f",
           "arrowhead": 0,
           "arrowwidth": 1
          },
          "autotypenumbers": "strict",
          "coloraxis": {
           "colorbar": {
            "outlinewidth": 0,
            "ticks": ""
           }
          },
          "colorscale": {
           "diverging": [
            [
             0,
             "#8e0152"
            ],
            [
             0.1,
             "#c51b7d"
            ],
            [
             0.2,
             "#de77ae"
            ],
            [
             0.3,
             "#f1b6da"
            ],
            [
             0.4,
             "#fde0ef"
            ],
            [
             0.5,
             "#f7f7f7"
            ],
            [
             0.6,
             "#e6f5d0"
            ],
            [
             0.7,
             "#b8e186"
            ],
            [
             0.8,
             "#7fbc41"
            ],
            [
             0.9,
             "#4d9221"
            ],
            [
             1,
             "#276419"
            ]
           ],
           "sequential": [
            [
             0,
             "#0d0887"
            ],
            [
             0.1111111111111111,
             "#46039f"
            ],
            [
             0.2222222222222222,
             "#7201a8"
            ],
            [
             0.3333333333333333,
             "#9c179e"
            ],
            [
             0.4444444444444444,
             "#bd3786"
            ],
            [
             0.5555555555555556,
             "#d8576b"
            ],
            [
             0.6666666666666666,
             "#ed7953"
            ],
            [
             0.7777777777777778,
             "#fb9f3a"
            ],
            [
             0.8888888888888888,
             "#fdca26"
            ],
            [
             1,
             "#f0f921"
            ]
           ],
           "sequentialminus": [
            [
             0,
             "#0d0887"
            ],
            [
             0.1111111111111111,
             "#46039f"
            ],
            [
             0.2222222222222222,
             "#7201a8"
            ],
            [
             0.3333333333333333,
             "#9c179e"
            ],
            [
             0.4444444444444444,
             "#bd3786"
            ],
            [
             0.5555555555555556,
             "#d8576b"
            ],
            [
             0.6666666666666666,
             "#ed7953"
            ],
            [
             0.7777777777777778,
             "#fb9f3a"
            ],
            [
             0.8888888888888888,
             "#fdca26"
            ],
            [
             1,
             "#f0f921"
            ]
           ]
          },
          "colorway": [
           "#636efa",
           "#EF553B",
           "#00cc96",
           "#ab63fa",
           "#FFA15A",
           "#19d3f3",
           "#FF6692",
           "#B6E880",
           "#FF97FF",
           "#FECB52"
          ],
          "font": {
           "color": "#2a3f5f"
          },
          "geo": {
           "bgcolor": "white",
           "lakecolor": "white",
           "landcolor": "#E5ECF6",
           "showlakes": true,
           "showland": true,
           "subunitcolor": "white"
          },
          "hoverlabel": {
           "align": "left"
          },
          "hovermode": "closest",
          "mapbox": {
           "style": "light"
          },
          "paper_bgcolor": "white",
          "plot_bgcolor": "#E5ECF6",
          "polar": {
           "angularaxis": {
            "gridcolor": "white",
            "linecolor": "white",
            "ticks": ""
           },
           "bgcolor": "#E5ECF6",
           "radialaxis": {
            "gridcolor": "white",
            "linecolor": "white",
            "ticks": ""
           }
          },
          "scene": {
           "xaxis": {
            "backgroundcolor": "#E5ECF6",
            "gridcolor": "white",
            "gridwidth": 2,
            "linecolor": "white",
            "showbackground": true,
            "ticks": "",
            "zerolinecolor": "white"
           },
           "yaxis": {
            "backgroundcolor": "#E5ECF6",
            "gridcolor": "white",
            "gridwidth": 2,
            "linecolor": "white",
            "showbackground": true,
            "ticks": "",
            "zerolinecolor": "white"
           },
           "zaxis": {
            "backgroundcolor": "#E5ECF6",
            "gridcolor": "white",
            "gridwidth": 2,
            "linecolor": "white",
            "showbackground": true,
            "ticks": "",
            "zerolinecolor": "white"
           }
          },
          "shapedefaults": {
           "line": {
            "color": "#2a3f5f"
           }
          },
          "ternary": {
           "aaxis": {
            "gridcolor": "white",
            "linecolor": "white",
            "ticks": ""
           },
           "baxis": {
            "gridcolor": "white",
            "linecolor": "white",
            "ticks": ""
           },
           "bgcolor": "#E5ECF6",
           "caxis": {
            "gridcolor": "white",
            "linecolor": "white",
            "ticks": ""
           }
          },
          "title": {
           "x": 0.05
          },
          "xaxis": {
           "automargin": true,
           "gridcolor": "white",
           "linecolor": "white",
           "ticks": "",
           "title": {
            "standoff": 15
           },
           "zerolinecolor": "white",
           "zerolinewidth": 2
          },
          "yaxis": {
           "automargin": true,
           "gridcolor": "white",
           "linecolor": "white",
           "ticks": "",
           "title": {
            "standoff": 15
           },
           "zerolinecolor": "white",
           "zerolinewidth": 2
          }
         }
        },
        "title": {
         "text": "utterance_length distribution"
        },
        "width": 800,
        "xaxis": {
         "anchor": "y",
         "domain": [
          0,
          1
         ],
         "title": {
          "text": "utterance_length"
         }
        },
        "xaxis2": {
         "anchor": "y2",
         "domain": [
          0,
          1
         ],
         "matches": "x",
         "showgrid": true,
         "showticklabels": false
        },
        "yaxis": {
         "anchor": "x",
         "domain": [
          0,
          0.8316
         ],
         "title": {
          "text": "Amount"
         }
        },
        "yaxis2": {
         "anchor": "x2",
         "domain": [
          0.8416,
          1
         ],
         "matches": "y2",
         "showgrid": false,
         "showline": false,
         "showticklabels": false,
         "ticks": ""
        }
       }
      },
      "text/html": [
       "<div>                            <div id=\"eaaea33b-ff3f-4e68-b62f-91d5a7885521\" class=\"plotly-graph-div\" style=\"height:500px; width:800px;\"></div>            <script type=\"text/javascript\">                require([\"plotly\"], function(Plotly) {                    window.PLOTLYENV=window.PLOTLYENV || {};                                    if (document.getElementById(\"eaaea33b-ff3f-4e68-b62f-91d5a7885521\")) {                    Plotly.newPlot(                        \"eaaea33b-ff3f-4e68-b62f-91d5a7885521\",                        [{\"alignmentgroup\":\"True\",\"bingroup\":\"x\",\"hovertemplate\":\"utterance_length=%{x}<br>count=%{y}<extra></extra>\",\"legendgroup\":\"\",\"marker\":{\"color\":\"#636efa\",\"opacity\":0.8,\"pattern\":{\"shape\":\"\"}},\"name\":\"\",\"nbinsx\":100,\"offsetgroup\":\"\",\"orientation\":\"v\",\"showlegend\":false,\"x\":[157,139,142,157,130,131,127,127,126,120,52,147,142,128,176,139,126,139,124,161,129,159,153,153,156,137,168,164,154,139,161,185,143,158,152,171,147,164,153,100,133,95,128,131,103,124,145,136,132,333,66,50,149,141,180,290,81,329,130,120,117,152,64,129,504,168,45,374,87,89,155,63,76,305,222,1851,65,256,47,249,99,81,46,426,174,43,986,360,35,871,133,162,59,63,48,102,141,48,89,148,38,124,130,138,136,367,237,41,69,154,144,92,54,40,146,64,155,100,82,425,152,219,178,91,256,238,209,57,271,46,214,231,274,238,205,224,187,214,207,240,297,238,262,227,122,246,116,94,92,69,117,205,178,208,158,190,234,234,34,153,34,106,170,182,214,170,182,169,288,286,271,240,261,226,233,176,179,247,128,104,114,132,119,48,107,42,31,158,59,154,48,99,95,62,25,37],\"xaxis\":\"x\",\"yaxis\":\"y\",\"type\":\"histogram\"},{\"alignmentgroup\":\"True\",\"hovertemplate\":\"utterance_length=%{x}<extra></extra>\",\"legendgroup\":\"\",\"marker\":{\"color\":\"#636efa\"},\"name\":\"\",\"notched\":true,\"offsetgroup\":\"\",\"showlegend\":false,\"x\":[157,139,142,157,130,131,127,127,126,120,52,147,142,128,176,139,126,139,124,161,129,159,153,153,156,137,168,164,154,139,161,185,143,158,152,171,147,164,153,100,133,95,128,131,103,124,145,136,132,333,66,50,149,141,180,290,81,329,130,120,117,152,64,129,504,168,45,374,87,89,155,63,76,305,222,1851,65,256,47,249,99,81,46,426,174,43,986,360,35,871,133,162,59,63,48,102,141,48,89,148,38,124,130,138,136,367,237,41,69,154,144,92,54,40,146,64,155,100,82,425,152,219,178,91,256,238,209,57,271,46,214,231,274,238,205,224,187,214,207,240,297,238,262,227,122,246,116,94,92,69,117,205,178,208,158,190,234,234,34,153,34,106,170,182,214,170,182,169,288,286,271,240,261,226,233,176,179,247,128,104,114,132,119,48,107,42,31,158,59,154,48,99,95,62,25,37],\"xaxis\":\"x2\",\"yaxis\":\"y2\",\"type\":\"box\"}],                        {\"template\":{\"data\":{\"histogram2dcontour\":[{\"type\":\"histogram2dcontour\",\"colorbar\":{\"outlinewidth\":0,\"ticks\":\"\"},\"colorscale\":[[0.0,\"#0d0887\"],[0.1111111111111111,\"#46039f\"],[0.2222222222222222,\"#7201a8\"],[0.3333333333333333,\"#9c179e\"],[0.4444444444444444,\"#bd3786\"],[0.5555555555555556,\"#d8576b\"],[0.6666666666666666,\"#ed7953\"],[0.7777777777777778,\"#fb9f3a\"],[0.8888888888888888,\"#fdca26\"],[1.0,\"#f0f921\"]]}],\"choropleth\":[{\"type\":\"choropleth\",\"colorbar\":{\"outlinewidth\":0,\"ticks\":\"\"}}],\"histogram2d\":[{\"type\":\"histogram2d\",\"colorbar\":{\"outlinewidth\":0,\"ticks\":\"\"},\"colorscale\":[[0.0,\"#0d0887\"],[0.1111111111111111,\"#46039f\"],[0.2222222222222222,\"#7201a8\"],[0.3333333333333333,\"#9c179e\"],[0.4444444444444444,\"#bd3786\"],[0.5555555555555556,\"#d8576b\"],[0.6666666666666666,\"#ed7953\"],[0.7777777777777778,\"#fb9f3a\"],[0.8888888888888888,\"#fdca26\"],[1.0,\"#f0f921\"]]}],\"heatmap\":[{\"type\":\"heatmap\",\"colorbar\":{\"outlinewidth\":0,\"ticks\":\"\"},\"colorscale\":[[0.0,\"#0d0887\"],[0.1111111111111111,\"#46039f\"],[0.2222222222222222,\"#7201a8\"],[0.3333333333333333,\"#9c179e\"],[0.4444444444444444,\"#bd3786\"],[0.5555555555555556,\"#d8576b\"],[0.6666666666666666,\"#ed7953\"],[0.7777777777777778,\"#fb9f3a\"],[0.8888888888888888,\"#fdca26\"],[1.0,\"#f0f921\"]]}],\"heatmapgl\":[{\"type\":\"heatmapgl\",\"colorbar\":{\"outlinewidth\":0,\"ticks\":\"\"},\"colorscale\":[[0.0,\"#0d0887\"],[0.1111111111111111,\"#46039f\"],[0.2222222222222222,\"#7201a8\"],[0.3333333333333333,\"#9c179e\"],[0.4444444444444444,\"#bd3786\"],[0.5555555555555556,\"#d8576b\"],[0.6666666666666666,\"#ed7953\"],[0.7777777777777778,\"#fb9f3a\"],[0.8888888888888888,\"#fdca26\"],[1.0,\"#f0f921\"]]}],\"contourcarpet\":[{\"type\":\"contourcarpet\",\"colorbar\":{\"outlinewidth\":0,\"ticks\":\"\"}}],\"contour\":[{\"type\":\"contour\",\"colorbar\":{\"outlinewidth\":0,\"ticks\":\"\"},\"colorscale\":[[0.0,\"#0d0887\"],[0.1111111111111111,\"#46039f\"],[0.2222222222222222,\"#7201a8\"],[0.3333333333333333,\"#9c179e\"],[0.4444444444444444,\"#bd3786\"],[0.5555555555555556,\"#d8576b\"],[0.6666666666666666,\"#ed7953\"],[0.7777777777777778,\"#fb9f3a\"],[0.8888888888888888,\"#fdca26\"],[1.0,\"#f0f921\"]]}],\"surface\":[{\"type\":\"surface\",\"colorbar\":{\"outlinewidth\":0,\"ticks\":\"\"},\"colorscale\":[[0.0,\"#0d0887\"],[0.1111111111111111,\"#46039f\"],[0.2222222222222222,\"#7201a8\"],[0.3333333333333333,\"#9c179e\"],[0.4444444444444444,\"#bd3786\"],[0.5555555555555556,\"#d8576b\"],[0.6666666666666666,\"#ed7953\"],[0.7777777777777778,\"#fb9f3a\"],[0.8888888888888888,\"#fdca26\"],[1.0,\"#f0f921\"]]}],\"mesh3d\":[{\"type\":\"mesh3d\",\"colorbar\":{\"outlinewidth\":0,\"ticks\":\"\"}}],\"scatter\":[{\"fillpattern\":{\"fillmode\":\"overlay\",\"size\":10,\"solidity\":0.2},\"type\":\"scatter\"}],\"parcoords\":[{\"type\":\"parcoords\",\"line\":{\"colorbar\":{\"outlinewidth\":0,\"ticks\":\"\"}}}],\"scatterpolargl\":[{\"type\":\"scatterpolargl\",\"marker\":{\"colorbar\":{\"outlinewidth\":0,\"ticks\":\"\"}}}],\"bar\":[{\"error_x\":{\"color\":\"#2a3f5f\"},\"error_y\":{\"color\":\"#2a3f5f\"},\"marker\":{\"line\":{\"color\":\"#E5ECF6\",\"width\":0.5},\"pattern\":{\"fillmode\":\"overlay\",\"size\":10,\"solidity\":0.2}},\"type\":\"bar\"}],\"scattergeo\":[{\"type\":\"scattergeo\",\"marker\":{\"colorbar\":{\"outlinewidth\":0,\"ticks\":\"\"}}}],\"scatterpolar\":[{\"type\":\"scatterpolar\",\"marker\":{\"colorbar\":{\"outlinewidth\":0,\"ticks\":\"\"}}}],\"histogram\":[{\"marker\":{\"pattern\":{\"fillmode\":\"overlay\",\"size\":10,\"solidity\":0.2}},\"type\":\"histogram\"}],\"scattergl\":[{\"type\":\"scattergl\",\"marker\":{\"colorbar\":{\"outlinewidth\":0,\"ticks\":\"\"}}}],\"scatter3d\":[{\"type\":\"scatter3d\",\"line\":{\"colorbar\":{\"outlinewidth\":0,\"ticks\":\"\"}},\"marker\":{\"colorbar\":{\"outlinewidth\":0,\"ticks\":\"\"}}}],\"scattermapbox\":[{\"type\":\"scattermapbox\",\"marker\":{\"colorbar\":{\"outlinewidth\":0,\"ticks\":\"\"}}}],\"scatterternary\":[{\"type\":\"scatterternary\",\"marker\":{\"colorbar\":{\"outlinewidth\":0,\"ticks\":\"\"}}}],\"scattercarpet\":[{\"type\":\"scattercarpet\",\"marker\":{\"colorbar\":{\"outlinewidth\":0,\"ticks\":\"\"}}}],\"carpet\":[{\"aaxis\":{\"endlinecolor\":\"#2a3f5f\",\"gridcolor\":\"white\",\"linecolor\":\"white\",\"minorgridcolor\":\"white\",\"startlinecolor\":\"#2a3f5f\"},\"baxis\":{\"endlinecolor\":\"#2a3f5f\",\"gridcolor\":\"white\",\"linecolor\":\"white\",\"minorgridcolor\":\"white\",\"startlinecolor\":\"#2a3f5f\"},\"type\":\"carpet\"}],\"table\":[{\"cells\":{\"fill\":{\"color\":\"#EBF0F8\"},\"line\":{\"color\":\"white\"}},\"header\":{\"fill\":{\"color\":\"#C8D4E3\"},\"line\":{\"color\":\"white\"}},\"type\":\"table\"}],\"barpolar\":[{\"marker\":{\"line\":{\"color\":\"#E5ECF6\",\"width\":0.5},\"pattern\":{\"fillmode\":\"overlay\",\"size\":10,\"solidity\":0.2}},\"type\":\"barpolar\"}],\"pie\":[{\"automargin\":true,\"type\":\"pie\"}]},\"layout\":{\"autotypenumbers\":\"strict\",\"colorway\":[\"#636efa\",\"#EF553B\",\"#00cc96\",\"#ab63fa\",\"#FFA15A\",\"#19d3f3\",\"#FF6692\",\"#B6E880\",\"#FF97FF\",\"#FECB52\"],\"font\":{\"color\":\"#2a3f5f\"},\"hovermode\":\"closest\",\"hoverlabel\":{\"align\":\"left\"},\"paper_bgcolor\":\"white\",\"plot_bgcolor\":\"#E5ECF6\",\"polar\":{\"bgcolor\":\"#E5ECF6\",\"angularaxis\":{\"gridcolor\":\"white\",\"linecolor\":\"white\",\"ticks\":\"\"},\"radialaxis\":{\"gridcolor\":\"white\",\"linecolor\":\"white\",\"ticks\":\"\"}},\"ternary\":{\"bgcolor\":\"#E5ECF6\",\"aaxis\":{\"gridcolor\":\"white\",\"linecolor\":\"white\",\"ticks\":\"\"},\"baxis\":{\"gridcolor\":\"white\",\"linecolor\":\"white\",\"ticks\":\"\"},\"caxis\":{\"gridcolor\":\"white\",\"linecolor\":\"white\",\"ticks\":\"\"}},\"coloraxis\":{\"colorbar\":{\"outlinewidth\":0,\"ticks\":\"\"}},\"colorscale\":{\"sequential\":[[0.0,\"#0d0887\"],[0.1111111111111111,\"#46039f\"],[0.2222222222222222,\"#7201a8\"],[0.3333333333333333,\"#9c179e\"],[0.4444444444444444,\"#bd3786\"],[0.5555555555555556,\"#d8576b\"],[0.6666666666666666,\"#ed7953\"],[0.7777777777777778,\"#fb9f3a\"],[0.8888888888888888,\"#fdca26\"],[1.0,\"#f0f921\"]],\"sequentialminus\":[[0.0,\"#0d0887\"],[0.1111111111111111,\"#46039f\"],[0.2222222222222222,\"#7201a8\"],[0.3333333333333333,\"#9c179e\"],[0.4444444444444444,\"#bd3786\"],[0.5555555555555556,\"#d8576b\"],[0.6666666666666666,\"#ed7953\"],[0.7777777777777778,\"#fb9f3a\"],[0.8888888888888888,\"#fdca26\"],[1.0,\"#f0f921\"]],\"diverging\":[[0,\"#8e0152\"],[0.1,\"#c51b7d\"],[0.2,\"#de77ae\"],[0.3,\"#f1b6da\"],[0.4,\"#fde0ef\"],[0.5,\"#f7f7f7\"],[0.6,\"#e6f5d0\"],[0.7,\"#b8e186\"],[0.8,\"#7fbc41\"],[0.9,\"#4d9221\"],[1,\"#276419\"]]},\"xaxis\":{\"gridcolor\":\"white\",\"linecolor\":\"white\",\"ticks\":\"\",\"title\":{\"standoff\":15},\"zerolinecolor\":\"white\",\"automargin\":true,\"zerolinewidth\":2},\"yaxis\":{\"gridcolor\":\"white\",\"linecolor\":\"white\",\"ticks\":\"\",\"title\":{\"standoff\":15},\"zerolinecolor\":\"white\",\"automargin\":true,\"zerolinewidth\":2},\"scene\":{\"xaxis\":{\"backgroundcolor\":\"#E5ECF6\",\"gridcolor\":\"white\",\"linecolor\":\"white\",\"showbackground\":true,\"ticks\":\"\",\"zerolinecolor\":\"white\",\"gridwidth\":2},\"yaxis\":{\"backgroundcolor\":\"#E5ECF6\",\"gridcolor\":\"white\",\"linecolor\":\"white\",\"showbackground\":true,\"ticks\":\"\",\"zerolinecolor\":\"white\",\"gridwidth\":2},\"zaxis\":{\"backgroundcolor\":\"#E5ECF6\",\"gridcolor\":\"white\",\"linecolor\":\"white\",\"showbackground\":true,\"ticks\":\"\",\"zerolinecolor\":\"white\",\"gridwidth\":2}},\"shapedefaults\":{\"line\":{\"color\":\"#2a3f5f\"}},\"annotationdefaults\":{\"arrowcolor\":\"#2a3f5f\",\"arrowhead\":0,\"arrowwidth\":1},\"geo\":{\"bgcolor\":\"white\",\"landcolor\":\"#E5ECF6\",\"subunitcolor\":\"white\",\"showland\":true,\"showlakes\":true,\"lakecolor\":\"white\"},\"title\":{\"x\":0.05},\"mapbox\":{\"style\":\"light\"}}},\"xaxis\":{\"anchor\":\"y\",\"domain\":[0.0,1.0],\"title\":{\"text\":\"utterance_length\"}},\"yaxis\":{\"anchor\":\"x\",\"domain\":[0.0,0.8316],\"title\":{\"text\":\"Amount\"}},\"xaxis2\":{\"anchor\":\"y2\",\"domain\":[0.0,1.0],\"matches\":\"x\",\"showticklabels\":false,\"showgrid\":true},\"yaxis2\":{\"anchor\":\"x2\",\"domain\":[0.8416,1.0],\"matches\":\"y2\",\"showticklabels\":false,\"showline\":false,\"ticks\":\"\",\"showgrid\":false},\"legend\":{\"tracegroupgap\":0},\"margin\":{\"t\":60},\"barmode\":\"relative\",\"title\":{\"text\":\"utterance_length distribution\"},\"plot_bgcolor\":\"white\",\"bargap\":0.2,\"width\":800,\"height\":500},                        {\"responsive\": true}                    ).then(function(){\n",
       "                            \n",
       "var gd = document.getElementById('eaaea33b-ff3f-4e68-b62f-91d5a7885521');\n",
       "var x = new MutationObserver(function (mutations, observer) {{\n",
       "        var display = window.getComputedStyle(gd).display;\n",
       "        if (!display || display === 'none') {{\n",
       "            console.log([gd, 'removed!']);\n",
       "            Plotly.purge(gd);\n",
       "            observer.disconnect();\n",
       "        }}\n",
       "}});\n",
       "\n",
       "// Listen for the removal of the full notebook cells\n",
       "var notebookContainer = gd.closest('#notebook-container');\n",
       "if (notebookContainer) {{\n",
       "    x.observe(notebookContainer, {childList: true});\n",
       "}}\n",
       "\n",
       "// Listen for the clearing of the current output cell\n",
       "var outputEl = gd.closest('.output');\n",
       "if (outputEl) {{\n",
       "    x.observe(outputEl, {childList: true});\n",
       "}}\n",
       "\n",
       "                        })                };                });            </script>        </div>"
      ]
     },
     "metadata": {},
     "output_type": "display_data"
    },
    {
     "data": {
      "text/plain": [
       "count     196.000000\n",
       "mean      169.494898\n",
       "std       165.280228\n",
       "min        25.000000\n",
       "25%        99.750000\n",
       "50%       143.500000\n",
       "75%       193.750000\n",
       "max      1851.000000\n",
       "Name: utterance_length, dtype: float64"
      ]
     },
     "execution_count": 145,
     "metadata": {},
     "output_type": "execute_result"
    }
   ],
   "source": [
    "plot_continious_hist(comments_train, \"utterance_length\")\n",
    "comments_train[\"utterance_length\"].describe()"
   ]
  },
  {
   "cell_type": "markdown",
   "metadata": {},
   "source": [
    "Токенизация колонки text"
   ]
  },
  {
   "cell_type": "code",
   "execution_count": 146,
   "metadata": {},
   "outputs": [
    {
     "name": "stdout",
     "output_type": "stream",
     "text": [
      "Device: cpu\n"
     ]
    }
   ],
   "source": [
    "import torch\n",
    "\n",
    "DEVICE = torch.device(\"cuda\" if torch.cuda.is_available() else \"cpu\")\n",
    "print(\"Device:\", DEVICE)\n"
   ]
  },
  {
   "cell_type": "code",
   "execution_count": 147,
   "metadata": {},
   "outputs": [
    {
     "name": "stderr",
     "output_type": "stream",
     "text": [
      "Some weights of the PyTorch model were not used when initializing the TF 2.0 model TFBertModel: ['cls.seq_relationship.bias', 'cls.predictions.transform.dense.weight', 'cls.predictions.decoder.bias', 'cls.predictions.transform.dense.bias', 'cls.predictions.transform.LayerNorm.weight', 'cls.predictions.bias', 'cls.predictions.decoder.weight', 'cls.seq_relationship.weight', 'cls.predictions.transform.LayerNorm.bias', 'bert.embeddings.position_ids']\n",
      "- This IS expected if you are initializing TFBertModel from a PyTorch model trained on another task or with another architecture (e.g. initializing a TFBertForSequenceClassification model from a BertForPreTraining model).\n",
      "- This IS NOT expected if you are initializing TFBertModel from a PyTorch model that you expect to be exactly identical (e.g. initializing a TFBertForSequenceClassification model from a BertForSequenceClassification model).\n",
      "All the weights of TFBertModel were initialized from the PyTorch model.\n",
      "If your task is similar to the task the model of the checkpoint was trained on, you can already use TFBertModel for predictions without further training.\n"
     ]
    }
   ],
   "source": [
    "from transformers import TFBertModel, BertTokenizer\n",
    "\n",
    "bert_model = TFBertModel.from_pretrained(\n",
    "    \"DeepPavlov/rubert-base-cased\",\n",
    "    from_pt=True,\n",
    "    output_hidden_states=True\n",
    ")\n",
    "\n",
    "tokenizer = BertTokenizer.from_pretrained(\"DeepPavlov/rubert-base-cased\")\n"
   ]
  },
  {
   "cell_type": "code",
   "execution_count": 148,
   "metadata": {},
   "outputs": [],
   "source": [
    "def extract_text_vectors(df, column, model, tokenizer,\n",
    "                         device, verbose=True, verbose_interval=100):\n",
    "    df = df.copy()\n",
    "    model = model.to(device)\n",
    "    if verbose:\n",
    "        start = time.time()\n",
    "        total_images = df.shape[0]\n",
    "        _ = 0\n",
    "\n",
    "    vectors = []\n",
    "    for index, row in df.reset_index(drop=True).iterrows():\n",
    "        index += 1\n",
    "        text = row[column]\n",
    "        input_ids = torch.tensor(\n",
    "            [tokenizer.encode(text, add_special_tokens=True)]).to(device)\n",
    "        with torch.no_grad():\n",
    "            model_output = model(input_ids)\n",
    "        vectors.append(\n",
    "            model_output.last_hidden_state.mean(dim=1).squeeze().tolist())\n",
    "\n",
    "        if verbose and (index % verbose_interval == 0 or index == total_images - 1):\n",
    "            print(f\"{_}. Processed text {index}/{total_images}.\")\n",
    "            _ += 1\n",
    "\n",
    "    assert all(len(vector) == len(vectors[0]) for vector in vectors), \"Text vectors have different dimensions\"\n",
    "\n",
    "    vectors_np = np.array(vectors)\n",
    "    df[[f\"text_vector_el{x}\"\n",
    "        for x in range(len(vectors_np[0]))]] = vectors_np\n",
    "\n",
    "    if verbose:\n",
    "        end = time.time()\n",
    "        print(f\"Extraction completed successfully. {exec_time(start, end)}\\n\")\n",
    "\n",
    "    return df\n"
   ]
  },
  {
   "cell_type": "code",
   "execution_count": 149,
   "metadata": {},
   "outputs": [
    {
     "data": {
      "text/plain": [
       "<transformers.models.bert.modeling_tf_bert.TFBertModel at 0x29b9f707250>"
      ]
     },
     "execution_count": 149,
     "metadata": {},
     "output_type": "execute_result"
    }
   ],
   "source": [
    "bert_model"
   ]
  },
  {
   "cell_type": "code",
   "execution_count": 150,
   "metadata": {},
   "outputs": [],
   "source": [
    "import tensorflow as tf\n",
    "\n",
    "def vectorize_comment(comment_text):\n",
    "    # Токенизация текста\n",
    "    tokens = tokenizer(comment_text, return_tensors=\"tf\", padding=True, truncation=True, max_length=256)\n",
    "    \n",
    "    # Получение эмбеддингов из модели\n",
    "    outputs = bert_model(tokens['input_ids'])\n",
    "    last_hidden_states = outputs.last_hidden_state\n",
    "    \n",
    "    # Предполагая, что вы хотите использовать среднее значение эмбеддингов в качестве векторного представления\n",
    "    vector = tf.reduce_mean(last_hidden_states, axis=1).numpy()\n",
    "\n",
    "    return vector\n"
   ]
  },
  {
   "cell_type": "code",
   "execution_count": 151,
   "metadata": {},
   "outputs": [],
   "source": [
    "comments_train[\"vectorized_comment\"] = comments_train[\"text\"].apply(vectorize_comment)"
   ]
  },
  {
   "cell_type": "code",
   "execution_count": 152,
   "metadata": {},
   "outputs": [
    {
     "data": {
      "text/html": [
       "<div>\n",
       "<style scoped>\n",
       "    .dataframe tbody tr th:only-of-type {\n",
       "        vertical-align: middle;\n",
       "    }\n",
       "\n",
       "    .dataframe tbody tr th {\n",
       "        vertical-align: top;\n",
       "    }\n",
       "\n",
       "    .dataframe thead th {\n",
       "        text-align: right;\n",
       "    }\n",
       "</style>\n",
       "<table border=\"1\" class=\"dataframe\">\n",
       "  <thead>\n",
       "    <tr style=\"text-align: right;\">\n",
       "      <th></th>\n",
       "      <th>id</th>\n",
       "      <th>text</th>\n",
       "      <th>beer_rating</th>\n",
       "      <th>utterance_length</th>\n",
       "      <th>vectorized_comment</th>\n",
       "    </tr>\n",
       "  </thead>\n",
       "  <tbody>\n",
       "    <tr>\n",
       "      <th>0</th>\n",
       "      <td>1</td>\n",
       "      <td>После просмотра этой дорамы я впервые подумал,...</td>\n",
       "      <td>9.0</td>\n",
       "      <td>157</td>\n",
       "      <td>[[0.025300974, -0.4715072, 0.33574465, 0.04139...</td>\n",
       "    </tr>\n",
       "    <tr>\n",
       "      <th>1</th>\n",
       "      <td>2</td>\n",
       "      <td>Алкоголь в этой дораме – не просто напиток, а ...</td>\n",
       "      <td>8.0</td>\n",
       "      <td>139</td>\n",
       "      <td>[[0.2623996, -0.35179248, -0.044964865, -0.047...</td>\n",
       "    </tr>\n",
       "    <tr>\n",
       "      <th>2</th>\n",
       "      <td>3</td>\n",
       "      <td>Главные герои этой дорамы – настоящие ценители...</td>\n",
       "      <td>9.5</td>\n",
       "      <td>142</td>\n",
       "      <td>[[0.01868856, -0.40090492, -0.14417881, 0.0273...</td>\n",
       "    </tr>\n",
       "    <tr>\n",
       "      <th>3</th>\n",
       "      <td>4</td>\n",
       "      <td>Пивная тема в этой дораме раскрыта на высшем у...</td>\n",
       "      <td>9.0</td>\n",
       "      <td>157</td>\n",
       "      <td>[[0.11453666, -0.263768, 0.10124293, 0.0096111...</td>\n",
       "    </tr>\n",
       "    <tr>\n",
       "      <th>4</th>\n",
       "      <td>5</td>\n",
       "      <td>Эта дорама – настоящая ржачка! Персонажи знают...</td>\n",
       "      <td>8.5</td>\n",
       "      <td>130</td>\n",
       "      <td>[[0.11017729, -0.09534927, -0.26619008, 0.2055...</td>\n",
       "    </tr>\n",
       "    <tr>\n",
       "      <th>...</th>\n",
       "      <td>...</td>\n",
       "      <td>...</td>\n",
       "      <td>...</td>\n",
       "      <td>...</td>\n",
       "      <td>...</td>\n",
       "    </tr>\n",
       "    <tr>\n",
       "      <th>196</th>\n",
       "      <td>235</td>\n",
       "      <td>Всей команде спасибо, давно не смотрела русски...</td>\n",
       "      <td>4.0</td>\n",
       "      <td>99</td>\n",
       "      <td>[[0.22772168, -0.20732398, -0.20218511, 0.2710...</td>\n",
       "    </tr>\n",
       "    <tr>\n",
       "      <th>197</th>\n",
       "      <td>236</td>\n",
       "      <td>Монтаж кто делал? - Глухие? Почему голоса еле ...</td>\n",
       "      <td>1.0</td>\n",
       "      <td>95</td>\n",
       "      <td>[[-0.034144547, -0.17292538, 0.020324772, -0.1...</td>\n",
       "    </tr>\n",
       "    <tr>\n",
       "      <th>198</th>\n",
       "      <td>237</td>\n",
       "      <td>Четкий нет слов, странно что оценка на кинопои...</td>\n",
       "      <td>5.0</td>\n",
       "      <td>62</td>\n",
       "      <td>[[0.0084604025, -0.06046022, 0.28788966, 0.318...</td>\n",
       "    </tr>\n",
       "    <tr>\n",
       "      <th>199</th>\n",
       "      <td>238</td>\n",
       "      <td>Очень классный фильм! :-)</td>\n",
       "      <td>7.0</td>\n",
       "      <td>25</td>\n",
       "      <td>[[-0.3950797, -0.53413254, -0.7722926, 0.53286...</td>\n",
       "    </tr>\n",
       "    <tr>\n",
       "      <th>200</th>\n",
       "      <td>239</td>\n",
       "      <td>Очень понравился и посмеялись от души</td>\n",
       "      <td>8.0</td>\n",
       "      <td>37</td>\n",
       "      <td>[[0.19062473, -0.13407639, -0.7641985, 0.30533...</td>\n",
       "    </tr>\n",
       "  </tbody>\n",
       "</table>\n",
       "<p>196 rows × 5 columns</p>\n",
       "</div>"
      ],
      "text/plain": [
       "      id                                               text  beer_rating  \\\n",
       "0      1  После просмотра этой дорамы я впервые подумал,...          9.0   \n",
       "1      2  Алкоголь в этой дораме – не просто напиток, а ...          8.0   \n",
       "2      3  Главные герои этой дорамы – настоящие ценители...          9.5   \n",
       "3      4  Пивная тема в этой дораме раскрыта на высшем у...          9.0   \n",
       "4      5  Эта дорама – настоящая ржачка! Персонажи знают...          8.5   \n",
       "..   ...                                                ...          ...   \n",
       "196  235  Всей команде спасибо, давно не смотрела русски...          4.0   \n",
       "197  236  Монтаж кто делал? - Глухие? Почему голоса еле ...          1.0   \n",
       "198  237  Четкий нет слов, странно что оценка на кинопои...          5.0   \n",
       "199  238                          Очень классный фильм! :-)          7.0   \n",
       "200  239              Очень понравился и посмеялись от души          8.0   \n",
       "\n",
       "     utterance_length                                 vectorized_comment  \n",
       "0                 157  [[0.025300974, -0.4715072, 0.33574465, 0.04139...  \n",
       "1                 139  [[0.2623996, -0.35179248, -0.044964865, -0.047...  \n",
       "2                 142  [[0.01868856, -0.40090492, -0.14417881, 0.0273...  \n",
       "3                 157  [[0.11453666, -0.263768, 0.10124293, 0.0096111...  \n",
       "4                 130  [[0.11017729, -0.09534927, -0.26619008, 0.2055...  \n",
       "..                ...                                                ...  \n",
       "196                99  [[0.22772168, -0.20732398, -0.20218511, 0.2710...  \n",
       "197                95  [[-0.034144547, -0.17292538, 0.020324772, -0.1...  \n",
       "198                62  [[0.0084604025, -0.06046022, 0.28788966, 0.318...  \n",
       "199                25  [[-0.3950797, -0.53413254, -0.7722926, 0.53286...  \n",
       "200                37  [[0.19062473, -0.13407639, -0.7641985, 0.30533...  \n",
       "\n",
       "[196 rows x 5 columns]"
      ]
     },
     "execution_count": 152,
     "metadata": {},
     "output_type": "execute_result"
    }
   ],
   "source": [
    "comments_train"
   ]
  },
  {
   "cell_type": "code",
   "execution_count": 153,
   "metadata": {},
   "outputs": [],
   "source": [
    "comments_train['vectorized_comment_rating'] = comments_train.apply(lambda row: np.multiply(row['vectorized_comment'], row['beer_rating']), axis=1)"
   ]
  },
  {
   "cell_type": "code",
   "execution_count": 154,
   "metadata": {},
   "outputs": [],
   "source": [
    "comments_train[\"beer_rating\"] = pd.to_numeric(comments_train[\"beer_rating\"], errors=\"coerce\")"
   ]
  },
  {
   "cell_type": "code",
   "execution_count": 155,
   "metadata": {},
   "outputs": [
    {
     "data": {
      "text/html": [
       "<div>\n",
       "<style scoped>\n",
       "    .dataframe tbody tr th:only-of-type {\n",
       "        vertical-align: middle;\n",
       "    }\n",
       "\n",
       "    .dataframe tbody tr th {\n",
       "        vertical-align: top;\n",
       "    }\n",
       "\n",
       "    .dataframe thead th {\n",
       "        text-align: right;\n",
       "    }\n",
       "</style>\n",
       "<table border=\"1\" class=\"dataframe\">\n",
       "  <thead>\n",
       "    <tr style=\"text-align: right;\">\n",
       "      <th></th>\n",
       "      <th>id</th>\n",
       "      <th>text</th>\n",
       "      <th>beer_rating</th>\n",
       "      <th>utterance_length</th>\n",
       "      <th>vectorized_comment</th>\n",
       "      <th>vectorized_comment_rating</th>\n",
       "    </tr>\n",
       "  </thead>\n",
       "  <tbody>\n",
       "    <tr>\n",
       "      <th>0</th>\n",
       "      <td>1</td>\n",
       "      <td>После просмотра этой дорамы я впервые подумал,...</td>\n",
       "      <td>9.0</td>\n",
       "      <td>157</td>\n",
       "      <td>[[0.025300974, -0.4715072, 0.33574465, 0.04139...</td>\n",
       "      <td>[[0.22770877, -4.2435646, 3.0217018, 0.3725513...</td>\n",
       "    </tr>\n",
       "    <tr>\n",
       "      <th>1</th>\n",
       "      <td>2</td>\n",
       "      <td>Алкоголь в этой дораме – не просто напиток, а ...</td>\n",
       "      <td>8.0</td>\n",
       "      <td>139</td>\n",
       "      <td>[[0.2623996, -0.35179248, -0.044964865, -0.047...</td>\n",
       "      <td>[[2.099197, -2.8143399, -0.35971892, -0.380521...</td>\n",
       "    </tr>\n",
       "    <tr>\n",
       "      <th>2</th>\n",
       "      <td>3</td>\n",
       "      <td>Главные герои этой дорамы – настоящие ценители...</td>\n",
       "      <td>9.5</td>\n",
       "      <td>142</td>\n",
       "      <td>[[0.01868856, -0.40090492, -0.14417881, 0.0273...</td>\n",
       "      <td>[[0.17754132, -3.8085968, -1.3696986, 0.259859...</td>\n",
       "    </tr>\n",
       "    <tr>\n",
       "      <th>3</th>\n",
       "      <td>4</td>\n",
       "      <td>Пивная тема в этой дораме раскрыта на высшем у...</td>\n",
       "      <td>9.0</td>\n",
       "      <td>157</td>\n",
       "      <td>[[0.11453666, -0.263768, 0.10124293, 0.0096111...</td>\n",
       "      <td>[[1.0308299, -2.3739119, 0.91118634, 0.0865005...</td>\n",
       "    </tr>\n",
       "    <tr>\n",
       "      <th>4</th>\n",
       "      <td>5</td>\n",
       "      <td>Эта дорама – настоящая ржачка! Персонажи знают...</td>\n",
       "      <td>8.5</td>\n",
       "      <td>130</td>\n",
       "      <td>[[0.11017729, -0.09534927, -0.26619008, 0.2055...</td>\n",
       "      <td>[[0.936507, -0.8104688, -2.2626157, 1.7473325,...</td>\n",
       "    </tr>\n",
       "    <tr>\n",
       "      <th>...</th>\n",
       "      <td>...</td>\n",
       "      <td>...</td>\n",
       "      <td>...</td>\n",
       "      <td>...</td>\n",
       "      <td>...</td>\n",
       "      <td>...</td>\n",
       "    </tr>\n",
       "    <tr>\n",
       "      <th>196</th>\n",
       "      <td>235</td>\n",
       "      <td>Всей команде спасибо, давно не смотрела русски...</td>\n",
       "      <td>4.0</td>\n",
       "      <td>99</td>\n",
       "      <td>[[0.22772168, -0.20732398, -0.20218511, 0.2710...</td>\n",
       "      <td>[[0.9108867, -0.82929593, -0.80874044, 1.08426...</td>\n",
       "    </tr>\n",
       "    <tr>\n",
       "      <th>197</th>\n",
       "      <td>236</td>\n",
       "      <td>Монтаж кто делал? - Глухие? Почему голоса еле ...</td>\n",
       "      <td>1.0</td>\n",
       "      <td>95</td>\n",
       "      <td>[[-0.034144547, -0.17292538, 0.020324772, -0.1...</td>\n",
       "      <td>[[-0.034144547, -0.17292538, 0.020324772, -0.1...</td>\n",
       "    </tr>\n",
       "    <tr>\n",
       "      <th>198</th>\n",
       "      <td>237</td>\n",
       "      <td>Четкий нет слов, странно что оценка на кинопои...</td>\n",
       "      <td>5.0</td>\n",
       "      <td>62</td>\n",
       "      <td>[[0.0084604025, -0.06046022, 0.28788966, 0.318...</td>\n",
       "      <td>[[0.042302012, -0.3023011, 1.4394484, 1.592633...</td>\n",
       "    </tr>\n",
       "    <tr>\n",
       "      <th>199</th>\n",
       "      <td>238</td>\n",
       "      <td>Очень классный фильм! :-)</td>\n",
       "      <td>7.0</td>\n",
       "      <td>25</td>\n",
       "      <td>[[-0.3950797, -0.53413254, -0.7722926, 0.53286...</td>\n",
       "      <td>[[-2.765558, -3.7389278, -5.4060483, 3.7300203...</td>\n",
       "    </tr>\n",
       "    <tr>\n",
       "      <th>200</th>\n",
       "      <td>239</td>\n",
       "      <td>Очень понравился и посмеялись от души</td>\n",
       "      <td>8.0</td>\n",
       "      <td>37</td>\n",
       "      <td>[[0.19062473, -0.13407639, -0.7641985, 0.30533...</td>\n",
       "      <td>[[1.5249978, -1.0726111, -6.113588, 2.4426732,...</td>\n",
       "    </tr>\n",
       "  </tbody>\n",
       "</table>\n",
       "<p>196 rows × 6 columns</p>\n",
       "</div>"
      ],
      "text/plain": [
       "      id                                               text  beer_rating  \\\n",
       "0      1  После просмотра этой дорамы я впервые подумал,...          9.0   \n",
       "1      2  Алкоголь в этой дораме – не просто напиток, а ...          8.0   \n",
       "2      3  Главные герои этой дорамы – настоящие ценители...          9.5   \n",
       "3      4  Пивная тема в этой дораме раскрыта на высшем у...          9.0   \n",
       "4      5  Эта дорама – настоящая ржачка! Персонажи знают...          8.5   \n",
       "..   ...                                                ...          ...   \n",
       "196  235  Всей команде спасибо, давно не смотрела русски...          4.0   \n",
       "197  236  Монтаж кто делал? - Глухие? Почему голоса еле ...          1.0   \n",
       "198  237  Четкий нет слов, странно что оценка на кинопои...          5.0   \n",
       "199  238                          Очень классный фильм! :-)          7.0   \n",
       "200  239              Очень понравился и посмеялись от души          8.0   \n",
       "\n",
       "     utterance_length                                 vectorized_comment  \\\n",
       "0                 157  [[0.025300974, -0.4715072, 0.33574465, 0.04139...   \n",
       "1                 139  [[0.2623996, -0.35179248, -0.044964865, -0.047...   \n",
       "2                 142  [[0.01868856, -0.40090492, -0.14417881, 0.0273...   \n",
       "3                 157  [[0.11453666, -0.263768, 0.10124293, 0.0096111...   \n",
       "4                 130  [[0.11017729, -0.09534927, -0.26619008, 0.2055...   \n",
       "..                ...                                                ...   \n",
       "196                99  [[0.22772168, -0.20732398, -0.20218511, 0.2710...   \n",
       "197                95  [[-0.034144547, -0.17292538, 0.020324772, -0.1...   \n",
       "198                62  [[0.0084604025, -0.06046022, 0.28788966, 0.318...   \n",
       "199                25  [[-0.3950797, -0.53413254, -0.7722926, 0.53286...   \n",
       "200                37  [[0.19062473, -0.13407639, -0.7641985, 0.30533...   \n",
       "\n",
       "                             vectorized_comment_rating  \n",
       "0    [[0.22770877, -4.2435646, 3.0217018, 0.3725513...  \n",
       "1    [[2.099197, -2.8143399, -0.35971892, -0.380521...  \n",
       "2    [[0.17754132, -3.8085968, -1.3696986, 0.259859...  \n",
       "3    [[1.0308299, -2.3739119, 0.91118634, 0.0865005...  \n",
       "4    [[0.936507, -0.8104688, -2.2626157, 1.7473325,...  \n",
       "..                                                 ...  \n",
       "196  [[0.9108867, -0.82929593, -0.80874044, 1.08426...  \n",
       "197  [[-0.034144547, -0.17292538, 0.020324772, -0.1...  \n",
       "198  [[0.042302012, -0.3023011, 1.4394484, 1.592633...  \n",
       "199  [[-2.765558, -3.7389278, -5.4060483, 3.7300203...  \n",
       "200  [[1.5249978, -1.0726111, -6.113588, 2.4426732,...  \n",
       "\n",
       "[196 rows x 6 columns]"
      ]
     },
     "execution_count": 155,
     "metadata": {},
     "output_type": "execute_result"
    }
   ],
   "source": [
    "comments_train"
   ]
  },
  {
   "cell_type": "code",
   "execution_count": null,
   "metadata": {},
   "outputs": [
    {
     "name": "stdout",
     "output_type": "stream",
     "text": [
      "Mean Squared Error: 8.138875165994722\n",
      "R^2 Score: 0.1096199317359644\n"
     ]
    }
   ],
   "source": [
    "from sklearn.model_selection import train_test_split\n",
    "from sklearn.linear_model import LinearRegression\n",
    "from sklearn.metrics import mean_squared_error\n",
    "from sklearn.metrics import r2_score\n",
    "import numpy as np\n",
    "\n",
    "train_data, test_data, train_labels, test_labels = train_test_split(\n",
    "    comments_train[\"vectorized_comment\"].tolist(),\n",
    "    comments_train[\"beer_rating\"].tolist(),\n",
    "    test_size=0.2,\n",
    "    random_state=42\n",
    ")\n",
    "\n",
    "# Усреднение векторов по всему seq_length\n",
    "train_data_flat = np.mean(train_data, axis=1).tolist()\n",
    "test_data_flat = np.mean(test_data, axis=1).tolist()\n",
    "\n",
    "model = LinearRegression()\n",
    "model.fit(train_data_flat, train_labels)\n",
    "predicted_labels = model.predict(test_data_flat)\n",
    "\n",
    "# Оцените качество модели с использованием среднеквадратичной ошибки\n",
    "mse = mean_squared_error(test_labels, predicted_labels)\n",
    "print(f\"Mean Squared Error: {mse}\")\n",
    "r2 = r2_score(test_labels, predicted_labels)\n",
    "print(f\"R^2 Score: {r2}\")\n"
   ]
  },
  {
   "cell_type": "code",
   "execution_count": null,
   "metadata": {},
   "outputs": [
    {
     "data": {
      "image/png": "[encoded data removed]",
      "text/plain": [
       "<Figure size 640x480 with 1 Axes>"
      ]
     },
     "metadata": {},
     "output_type": "display_data"
    }
   ],
   "source": [
    "import matplotlib.pyplot as plt\n",
    "\n",
    "plt.scatter(test_labels, predicted_labels, color='red', label='Предсказанный рейтинг')\n",
    "plt.scatter(test_labels, test_labels, color='blue', label='Фактический рейтинг')\n",
    "plt.xlabel('Рейтинг')\n",
    "plt.ylabel('Предсказанный рейтинг')\n",
    "plt.title('Фактический рейтинг vs. Предсказанный рейтинг')\n",
    "plt.legend()\n",
    "plt.show()\n"
   ]
  },
  {
   "cell_type": "code",
   "execution_count": null,
   "metadata": {},
   "outputs": [
    {
     "name": "stdout",
     "output_type": "stream",
     "text": [
      "Predicted Rating: 5.0646211276468645\n"
     ]
    }
   ],
   "source": [
    "new_comment = \"хуйня а не фильм\"\n",
    "\n",
    "# Векторизация нового комментария\n",
    "vectorized_new_comment = vectorize_comment(new_comment)\n",
    "\n",
    "# Предсказание рейтинга для нового комментария\n",
    "predicted_rating = model.predict(vectorized_new_comment)\n",
    "\n",
    "print(f\"Predicted Rating: {predicted_rating[0]}\")"
   ]
  },
  {
   "cell_type": "code",
   "execution_count": null,
   "metadata": {},
   "outputs": [
    {
     "name": "stdout",
     "output_type": "stream",
     "text": [
      "[ 1.39523642e-01  2.52034265e-01 -6.39458126e-01 -1.09609405e-01\n",
      " -4.93195310e-01  9.06972354e-02 -2.16104709e-01 -2.35702342e-01\n",
      "  1.40389854e-01  6.40783211e-01  1.79813971e-02  3.19355884e-01\n",
      " -4.42021850e-02 -2.42419955e-01  6.04406036e-01 -1.04827960e-01\n",
      "  6.45941030e-01  2.17765420e-02  1.07599551e-01 -4.35996262e-02\n",
      "  5.02318560e-01 -3.45714788e-01 -6.61418363e-01 -3.49525035e-01\n",
      "  2.02399140e-01 -1.99242055e-01 -3.10331323e-01 -4.66461345e-01\n",
      " -5.76402843e-01  2.54029199e-01  1.00345710e-01 -7.64331364e-04\n",
      " -3.42982744e-01  5.65732371e-01 -1.06597583e-01 -2.11800615e-01\n",
      "  9.04901367e-01 -2.52582871e-01 -4.11001120e-01 -2.92226712e-01\n",
      " -3.78426835e-01 -4.52092844e-02 -2.14573724e-01  5.77281213e-01\n",
      " -1.11509435e-01  4.86534359e-01 -3.61495095e-01 -2.97614869e-01\n",
      " -2.14777268e-01 -1.92999398e-02  4.59127019e-01  2.87614281e-02\n",
      "  1.13142525e-01  2.04765866e-01  4.70991039e-02  4.88787257e-01\n",
      " -5.36459157e-01 -2.09617795e-02  2.86299766e-02 -1.78935670e-01\n",
      "  1.48454691e-01  6.79586035e-01  3.04955254e-01 -3.86107965e-01\n",
      " -1.94776100e-01  3.39258024e-01 -1.19599849e-01 -1.69880690e-01\n",
      "  1.83114590e-01  3.94509017e-01  6.33130685e-01  1.58345130e-01\n",
      "  1.43102431e-01  2.12359700e-01  6.86431481e-02 -3.76251362e-01\n",
      " -2.95337154e-01  3.08354403e-01  7.88539895e-01 -4.25614075e-02\n",
      "  6.75343113e-02  2.76588506e-01 -1.64047247e-01  6.44972165e-02\n",
      "  2.81756989e-01  7.50569329e-02  3.38482211e-02 -2.25794594e-01\n",
      "  9.98540587e-02  2.82267039e-01  1.34864969e-01 -3.49964404e-02\n",
      "  3.24420558e-01 -4.13209525e-01  3.29694057e-01  1.30238090e-01\n",
      " -3.76057926e-01  1.68808061e-02 -1.90374149e-02 -3.80805835e-01\n",
      " -4.78809119e-01 -1.90638151e-01 -5.23892321e-01  3.31642218e-02\n",
      " -3.72530682e-02 -2.08202253e-01  4.71438909e-01 -6.57378146e-01\n",
      " -4.63056985e-01 -3.91713783e-01  2.39671714e-01  2.12419002e-01\n",
      "  5.37109573e-02 -1.39131634e-02  1.25181968e-01 -2.02036581e-01\n",
      " -9.17633379e-02  2.20988128e-01 -2.17546729e-01 -8.04028612e-02\n",
      " -2.53015940e-01 -5.07134215e-02  1.55943231e-01  1.86999250e-01\n",
      " -1.36655139e-01 -4.65033792e-01 -3.41632371e-01 -2.36914777e-01\n",
      "  3.20115225e-01  3.62372076e-01  6.35377093e-02 -5.40682313e-01\n",
      "  6.16341589e-02 -4.63857206e-01  6.81097661e-01 -4.19894599e-01\n",
      "  2.86148016e-01 -1.35560965e-01 -4.61892073e-01  2.43579089e-01\n",
      " -3.95380497e-01 -1.60685310e-01  9.43892676e-04 -3.56894683e-01\n",
      "  2.65974912e-01  2.77070292e-01  6.72889477e-01 -2.60200363e-02\n",
      "  1.83349779e-01 -3.01746814e-01  1.55325459e-01 -4.56928286e-01\n",
      " -2.15222053e-01 -3.41273457e-01 -3.27263716e-01  2.43767032e-01\n",
      " -1.25279636e-01  2.44265428e-01 -6.32665567e-02 -3.00347640e-01\n",
      " -1.71897893e-02 -5.74946029e-01 -1.05529671e-01  1.27223254e-01\n",
      "  2.49574070e-01  2.52979056e-02 -1.48313606e-01  1.73728741e-01\n",
      "  6.35194169e-01 -3.50713183e-01 -9.30402316e-02  6.83116852e-01\n",
      " -1.14562214e-01  2.09637409e-01  2.85219555e-01  3.46407556e-01\n",
      "  1.55613036e-01 -1.49547660e-01 -1.88136526e-01  9.82862967e-02\n",
      " -6.23901616e-02  6.47605006e-03  3.63657781e-01 -3.93530626e-01\n",
      " -1.75730972e-02  9.63397981e-02  3.44226371e-03  1.55771999e-01\n",
      " -1.34176408e-01  1.54822766e-01 -1.16914734e-01 -4.54330758e-02\n",
      "  1.19243992e-01 -2.16896705e-01  2.33894023e-02  1.70173409e-01\n",
      "  1.78737742e-02  1.62652803e-01 -5.12500958e-01  3.19415660e-01\n",
      "  2.81803152e-02 -1.11670446e-01 -1.32197914e-01 -1.79797848e-02\n",
      "  2.42968810e-01  1.93413603e-01 -2.37272468e-01 -3.96403199e-01\n",
      "  4.32176963e-02  7.08604408e-02 -7.99526948e-02  4.06501882e-01\n",
      "  1.58504258e-01  1.55736662e-01 -1.09485600e-01 -3.34911808e-01\n",
      "  9.17645640e-02 -2.48725373e-01 -4.06696021e-01  2.46412133e-01\n",
      "  4.08634199e-01  3.41945702e-01 -1.56640531e-01  3.73479728e-01\n",
      " -3.78313074e-01  1.50367245e-01 -2.50185222e-01  5.76174914e-02\n",
      " -1.32140006e-01  1.96125105e-01 -2.53032652e-01  2.39633665e-01\n",
      " -1.56268097e-01 -8.38769579e-02  2.32396947e-02 -1.52256799e-01\n",
      "  1.46294032e-01  4.30842303e-02 -8.28454256e-02 -2.83628038e-01\n",
      "  4.41951688e-01  4.86056100e-01  2.57464842e-01  2.70571738e-01\n",
      " -2.23781669e-01  6.43312619e-02 -2.29728413e-01  1.13781042e-01\n",
      " -1.28574624e-02  3.04716606e-01  5.48935303e-02 -4.17379623e-01\n",
      "  5.44487111e-01 -4.21950180e-01  1.89572951e-01 -7.18954573e-02\n",
      "  7.64455197e-02  2.25507915e-01 -1.99549990e-01 -4.14837890e-01\n",
      " -2.01748160e-01  1.94496914e-01 -2.70853863e-01 -3.20944039e-01\n",
      "  1.64877330e-01 -1.67321991e-01 -5.82148653e-01  2.07973567e-01\n",
      " -2.63380827e-01  1.71722370e-01  8.41713577e-02  5.65776008e-02\n",
      " -1.98614660e-01  1.57063602e-01 -2.02951767e-01  1.47517423e-01\n",
      "  6.08861220e-01 -2.88355893e-01  5.19057451e-02  1.86419713e-01\n",
      " -4.76360798e-01  2.49686833e-01 -4.57942793e-01  3.53837365e-01\n",
      "  4.78201690e-02  1.17226359e-01  5.24643233e-02 -4.18318172e-03\n",
      " -3.02100293e-01 -1.55864485e-01  2.14117913e-01  3.84436835e-01\n",
      "  1.28322535e-01  2.44847819e-01  1.93440405e-01  2.52912399e-01\n",
      " -7.02889539e-01  4.14639421e-01  4.21972071e-01  5.56563293e-02\n",
      " -3.74019773e-01  3.55498856e-01 -4.17221055e-01 -1.22828858e-01\n",
      "  6.55989394e-01 -3.00040832e-01 -4.88461356e-01  9.32926753e-02\n",
      "  1.76472572e-01 -2.85906620e-01 -1.38105283e-01 -2.51906299e-02\n",
      " -8.94014325e-01  2.10027930e-01 -1.29009286e-01  1.78825499e-01\n",
      " -1.86807479e-01  1.36482192e-01 -2.44767006e-01 -1.25035424e-01\n",
      "  7.03832913e-01 -1.10466389e-01 -3.09891628e-01  2.61560376e-01\n",
      "  5.76375161e-02  1.77752473e-01  3.64825585e-02  5.55182149e-02\n",
      " -3.81978894e-01  1.26091349e-01 -8.79062155e-02  1.30851437e-01\n",
      "  1.69608010e-01 -1.18361312e-01 -1.77725413e-01 -1.08241673e-01\n",
      "  3.90982780e-01 -1.95493263e-01 -2.42151623e-01  9.59818197e-02\n",
      " -2.55447634e-01 -7.91277422e-02  3.40063487e-01 -5.91355253e-03\n",
      " -1.03743308e-01 -4.45206704e-01 -3.28791174e-02  3.24793668e-02\n",
      " -1.29182597e-03  3.99226469e-01  1.70487409e-01 -3.45786941e-01\n",
      " -2.97451329e-01  9.45151736e-02  5.79184067e-01  3.43687017e-01\n",
      " -4.80890763e-01  1.78854872e-01 -2.73658485e-01 -5.28298613e-02\n",
      " -1.05768392e-01  2.78347682e-01  2.90159824e-01  5.58640400e-01\n",
      "  9.05819113e-02  4.80209216e-01  2.51284561e-01  3.63509119e-02\n",
      "  1.50765818e-01  2.72267438e-01 -5.92165278e-01 -1.80960538e-01\n",
      "  4.08843387e-01 -3.68621564e-01  3.89438636e-02  2.21984663e-02\n",
      " -2.76054319e-01  4.42493919e-01 -3.12881233e-01 -1.37127552e-01\n",
      " -1.42152587e-01 -4.82896137e-01 -4.31350605e-01  5.42949876e-01\n",
      " -1.64887803e-01 -2.07508882e-01  1.74966579e-01 -5.05406321e-02\n",
      " -1.38657737e-01  2.15395157e-02  1.16940459e-01 -9.96289201e-02\n",
      "  3.51104106e-01  6.43079102e-02  5.91976278e-02 -5.50428283e-03\n",
      " -1.15247938e-01 -2.07046461e-01  5.54815117e-01 -3.78740845e-01\n",
      " -1.45815356e-01 -3.85221170e-01  5.36743862e-02 -2.97559059e-01\n",
      " -3.93929840e-01 -2.42780133e-01 -4.97937903e-01  1.64253097e-01\n",
      " -4.17104085e-01  3.80208155e-02 -9.75876313e-02 -1.58661897e-01\n",
      " -3.67690628e-01 -3.70569838e-01 -4.70006211e-01  1.54996509e-01\n",
      " -8.78011347e-01  2.78954537e-01 -1.24080715e-01  4.37056222e-01\n",
      " -3.49092129e-01  8.43099551e-02  1.14422861e-01  2.36689610e-01\n",
      " -5.08374991e-02 -1.50058759e-01 -2.20927950e-01 -5.27642223e-02\n",
      "  1.25143457e-01 -4.59565923e-01 -1.84492861e-01  3.19199496e-01\n",
      "  5.40590334e-01 -2.89501484e-01  1.27434108e-01  3.58111085e-01\n",
      " -8.34591400e-02  6.38486645e-01 -1.39142664e-02  4.27960400e-01\n",
      "  8.21607094e-02 -3.27350495e-01  1.48565521e-01  2.80765038e-01\n",
      "  1.46426199e-01 -3.67337289e-01  2.93917302e-01 -1.48817513e-01\n",
      " -1.22157168e-01  1.42171909e-02 -4.00484930e-01 -1.93620549e-01\n",
      " -4.87170175e-01 -3.29909169e-01 -1.57001466e-01  2.85392911e-01\n",
      "  7.06526153e-01 -1.07712690e-01  2.72241443e-01  1.19770640e-01\n",
      " -2.33397632e-01  2.19533952e-01  1.45623234e-01  2.02536429e-02\n",
      " -8.19172334e-02 -2.30702223e-01 -8.40398123e-03  9.08509669e-03\n",
      "  4.48869624e-01  3.55407079e-02  4.80035836e-01  1.61285647e-01\n",
      "  1.60332098e-01  3.10507529e-01  5.74467367e-02 -4.21905955e-02\n",
      " -6.93585449e-01  2.29206954e-01  3.45860838e-01 -6.15754689e-01\n",
      "  2.16260435e-01  2.07087560e-01 -3.39083041e-01  1.63032598e-01\n",
      " -1.95458686e-01 -1.40951399e-03 -1.16177278e-01 -2.04901384e-01\n",
      " -3.94078310e-01 -5.25785459e-03  2.65196062e-01  3.99139428e-01\n",
      " -8.96975751e-02  2.38196228e-01  4.88357525e-01 -4.52969690e-01\n",
      "  9.59212211e-02  3.88129060e-01 -9.03611630e-01 -2.38981919e-02\n",
      "  5.70584980e-01  2.65006028e-02 -2.05967590e-01  1.87842203e-01\n",
      "  1.18870352e-01  3.21090476e-01 -3.90430679e-01 -2.81229326e-01\n",
      "  9.64132179e-02 -6.50786380e-02 -1.59729061e-01 -2.47422435e-02\n",
      " -2.96160899e-01 -2.04220493e-02 -1.55936614e-01 -2.31268733e-01\n",
      "  1.93151163e-02 -1.68055540e-01 -1.12887523e-01 -4.78899394e-01\n",
      "  4.13611671e-02 -1.38419953e-01 -2.00342512e-01  8.83665307e-02\n",
      " -1.71358109e-01  1.59881771e-01  2.37551021e-01 -4.07226198e-01\n",
      "  4.70102175e-02  2.00739934e-01  2.09419632e-01 -1.82507754e-01\n",
      "  2.58393206e-01  1.69292342e-01 -1.36637972e-01  1.18132752e-02\n",
      "  1.22228115e-01 -4.48740946e-01  2.50869307e-01  7.28826633e-01\n",
      " -6.85677411e-02  8.45300149e-02  8.14830192e-02  1.86373656e-01\n",
      "  2.38439040e-01 -3.57273407e-01 -5.02969792e-01 -1.45126913e-01\n",
      "  1.24153151e-01 -4.68173944e-01  7.46585949e-02 -1.06508602e-01\n",
      " -2.49979732e-02 -3.62411361e-01 -6.90696894e-02  6.34808015e-01\n",
      "  7.06836516e-02 -5.88358827e-02  8.23443636e-02  2.83702862e-02\n",
      "  2.89518285e-01  3.88393506e-01  2.26560563e-01 -4.29685978e-01\n",
      "  1.52913264e-01 -2.10444523e-01  5.32544441e-02  4.82897370e-01\n",
      "  3.60363033e-01 -6.23698623e-02 -1.19069915e-01  2.64791959e-01\n",
      " -4.06313870e-01 -2.49200605e-01  4.80641299e-01 -2.19694468e-01\n",
      "  2.59356858e-01  6.16931821e-01  7.43197860e-03 -6.68153036e-02\n",
      " -1.13451222e-01 -5.01860891e-01  3.63435269e-01  3.01480021e-01\n",
      " -4.64863859e-01 -8.69631043e-02  4.63612588e-02  5.67005274e-01\n",
      " -2.06850797e-01 -2.77283464e-01 -2.22282674e-01  3.25720699e-01\n",
      "  4.83863054e-01  2.49641462e-02  1.17664265e-02  2.84522774e-01\n",
      "  1.37359932e-01  1.75274689e-01 -1.56716811e-01  7.09984434e-01\n",
      "  8.96251148e-01 -1.92500552e-01  2.17023382e-01  7.95525476e-02\n",
      " -3.51342879e-01  3.49443532e-01  2.81087903e-01 -1.70772145e-01\n",
      " -2.25129017e-01 -3.74414673e-01  2.31240469e-01  2.34545132e-02\n",
      " -5.33005348e-01  1.31280247e-01 -5.74397112e-01 -1.09857370e-01\n",
      "  7.76267199e-02  6.34032513e-01  2.60984665e-01 -1.90655268e-01\n",
      " -2.11097135e-01  5.15092294e-01 -5.52841972e-01 -5.63584220e-01\n",
      " -1.55761794e-02 -3.37102399e-02 -1.76020081e-01 -1.06445208e-01\n",
      " -5.34236699e-01  3.06555269e-02 -2.10522227e-01  3.10088999e-01\n",
      "  7.27700997e-02  2.82823488e-01 -2.13647958e-01  3.12329025e-01\n",
      " -9.28479953e-03  1.93938808e-01  2.28349880e-01  6.65098088e-02\n",
      "  5.78149965e-01 -2.94357467e-01  5.53639065e-02  1.61554979e-01\n",
      " -5.80781059e-01 -1.06437315e-01  9.33962508e-02 -2.52818680e-01\n",
      "  1.44865345e-01 -2.40025190e-01 -1.78213237e-01  2.50796778e-01\n",
      " -1.25216325e-01  2.37703965e-03  4.20308374e-01 -2.33589653e-01\n",
      "  2.45214686e-02 -1.70073588e-01 -4.99129887e-02  4.01590386e-01\n",
      "  2.39380040e-01 -6.03923152e-03 -3.85086043e-03  3.31108508e-01\n",
      " -1.93735016e-02  3.79024166e-01  2.76754936e-01 -6.54130660e-02\n",
      " -3.00544679e-01 -2.04223504e-01 -2.27755220e-01 -1.05190027e-01\n",
      " -1.40975370e-01  1.61025456e-01  1.28241737e-01  6.42055457e-03\n",
      "  5.54068123e-02 -4.81960222e-01  1.01766461e-01 -1.87570149e-01\n",
      " -5.76527316e-01 -1.14687057e-01 -1.08774167e-01  4.11347756e-01\n",
      " -3.82841857e-01  6.43123256e-02  1.91974153e-01 -1.99344485e-01\n",
      "  2.53834435e-01  2.91430030e-01  2.16601929e-02  3.50684213e-01\n",
      "  2.04890023e-01  1.40045922e-03 -2.68545429e-01 -2.02023354e-01\n",
      " -3.29469541e-01 -1.56565950e-01  3.80062601e-01  5.17903238e-02\n",
      " -4.74847933e-01  1.28485979e-01  2.20369083e-01 -6.64250773e-01\n",
      " -8.67955214e-02  3.08239911e-01  2.87610588e-01  1.56251511e-01\n",
      "  2.35873341e-01 -3.96896776e-03 -4.95035974e-02 -3.50179980e-01\n",
      "  3.93351888e-01  4.59453529e-01  3.37903582e-01 -2.88310540e-02\n",
      "  3.61083864e-03 -1.10664470e-02  1.12730225e-03  2.70720946e-01\n",
      "  9.71867347e-02 -2.34723001e-01  3.54032518e-01 -4.35421537e-01\n",
      " -3.33020999e-01 -2.23121697e-01 -1.51663237e-01 -1.50979326e-01\n",
      " -1.52084418e-01 -4.65454013e-01  4.71143517e-02  2.97800374e-01\n",
      "  1.24007308e-01  4.82585972e-02  4.76559037e-01  1.73278715e-01\n",
      " -4.51575867e-01 -1.84563294e-01  6.32753451e-01 -3.08291369e-01\n",
      " -3.21334234e-02 -3.98551360e-01  2.67425936e-01  2.88899553e-01\n",
      "  3.09515354e-01  3.36766515e-01  9.62498296e-02 -1.07572436e-01\n",
      " -5.25373369e-02 -5.13062123e-02  1.85114405e-01  2.23944381e-02\n",
      "  2.62118949e-01 -2.19530333e-01 -4.83498050e-01 -1.79948611e-02\n",
      "  2.40314722e-01  1.61099446e-01 -3.87050435e-02 -1.56453907e-01\n",
      " -6.59285972e-02 -1.18692802e-01  6.27647082e-02 -3.00325712e-02\n",
      " -1.84273822e-01 -4.47676985e-02  2.94350868e-01 -7.32428223e-02]\n"
     ]
    }
   ],
   "source": [
    "weights = model.coef_\n",
    "print(weights)\n"
   ]
  }
 ],
 "metadata": {
  "kernelspec": {
   "display_name": "Python 3 (ipykernel)",
   "language": "python",
   "name": "python3"
  }
 },
 "nbformat": 4,
 "nbformat_minor": 2
}
