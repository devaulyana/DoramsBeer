{
 "cells": [
  {
   "cell_type": "code",
   "execution_count": 278,
   "metadata": {},
   "outputs": [],
   "source": [
    "import tensorflow as tf\n",
    "from tensorflow.keras import layers, models\n",
    "import numpy as np\n",
    "import pandas as pd\n",
    "import matplotlib.pyplot as plt\n",
    "import pandas as pd"
   ]
  },
  {
   "cell_type": "markdown",
   "metadata": {},
   "source": [
    "Выгрузка таблицы *beer_comments* из базы данных *pivo_commets*"
   ]
  },
  {
   "cell_type": "code",
   "execution_count": 279,
   "metadata": {},
   "outputs": [
    {
     "name": "stdout",
     "output_type": "stream",
     "text": [
      "Соединение с базой данных успешно установлено\n",
      "Данные сохранены в файл comments_train.csv\n"
     ]
    }
   ],
   "source": [
    "import psycopg2\n",
    "import pandas as pd\n",
    "from sqlalchemy import create_engine\n",
    "from psycopg2 import OperationalError\n",
    "\n",
    "def create_connection(db_name, db_user, db_password, db_host, db_port):\n",
    "    connection = None\n",
    "    try:\n",
    "        connection = psycopg2.connect(\n",
    "            database=db_name,\n",
    "            user=db_user,\n",
    "            password=db_password,\n",
    "            host=db_host,\n",
    "            port=db_port\n",
    "        )\n",
    "        print(\"Соединение с базой данных успешно установлено\")\n",
    "    except OperationalError as e:\n",
    "        print(f\"Произошла ошибка '{e}'\")\n",
    "    return connection\n",
    "\n",
    "def fetch_data_and_save_to_file(engine, file_path, table_name, schema=\"public\"):\n",
    "\n",
    "    with engine.connect() as connection:\n",
    "        sql_query = f\"SELECT * FROM {schema}.{table_name};\"\n",
    "        df = pd.read_sql(sql_query, connection)\n",
    "\n",
    "        df.to_csv(file_path, index=False)\n",
    "        print(f\"Данные сохранены в файл {file_path}\")\n",
    "\n",
    "db_params = {\n",
    "    \"db_name\": \"pivo_commets\",\n",
    "    \"db_user\": \"postgres\",\n",
    "    \"db_password\": \"1111\",\n",
    "    \"db_host\": \"127.0.0.1\",\n",
    "    \"db_port\": \"5432\"\n",
    "}\n",
    "file_path = \"comments_train.csv\"\n",
    "table_name = \"beer_comments\"\n",
    "\n",
    "conn = create_connection(**db_params)\n",
    "cursor = conn.cursor()\n",
    "\n",
    "\n",
    "db_uri = f\"postgresql://{db_params['db_user']}:{db_params['db_password']}@{db_params['db_host']}:{db_params['db_port']}/{db_params['db_name']}\"\n",
    "engine = create_engine(db_uri)\n",
    "\n",
    "try:\n",
    "    fetch_data_and_save_to_file(engine, file_path, table_name)\n",
    "\n",
    "except KeyboardInterrupt:\n",
    "    print(\"Скрипт завершен\")\n",
    "finally:\n",
    "    cursor.close()\n",
    "    conn.close()\n"
   ]
  },
  {
   "cell_type": "code",
   "execution_count": 280,
   "metadata": {},
   "outputs": [
    {
     "data": {
      "text/html": [
       "<div>\n",
       "<style scoped>\n",
       "    .dataframe tbody tr th:only-of-type {\n",
       "        vertical-align: middle;\n",
       "    }\n",
       "\n",
       "    .dataframe tbody tr th {\n",
       "        vertical-align: top;\n",
       "    }\n",
       "\n",
       "    .dataframe thead th {\n",
       "        text-align: right;\n",
       "    }\n",
       "</style>\n",
       "<table border=\"1\" class=\"dataframe\">\n",
       "  <thead>\n",
       "    <tr style=\"text-align: right;\">\n",
       "      <th></th>\n",
       "      <th>id</th>\n",
       "      <th>text</th>\n",
       "      <th>beer_rating</th>\n",
       "    </tr>\n",
       "  </thead>\n",
       "  <tbody>\n",
       "    <tr>\n",
       "      <th>0</th>\n",
       "      <td>1</td>\n",
       "      <td>После просмотра этой дорамы я впервые подумал,...</td>\n",
       "      <td>9.0</td>\n",
       "    </tr>\n",
       "    <tr>\n",
       "      <th>1</th>\n",
       "      <td>2</td>\n",
       "      <td>Алкоголь в этой дораме – не просто напиток, а ...</td>\n",
       "      <td>8.0</td>\n",
       "    </tr>\n",
       "    <tr>\n",
       "      <th>2</th>\n",
       "      <td>3</td>\n",
       "      <td>Главные герои этой дорамы – настоящие ценители...</td>\n",
       "      <td>9.5</td>\n",
       "    </tr>\n",
       "    <tr>\n",
       "      <th>3</th>\n",
       "      <td>4</td>\n",
       "      <td>Пивная тема в этой дораме раскрыта на высшем у...</td>\n",
       "      <td>9.0</td>\n",
       "    </tr>\n",
       "    <tr>\n",
       "      <th>4</th>\n",
       "      <td>5</td>\n",
       "      <td>Эта дорама – настоящая ржачка! Персонажи знают...</td>\n",
       "      <td>8.5</td>\n",
       "    </tr>\n",
       "    <tr>\n",
       "      <th>...</th>\n",
       "      <td>...</td>\n",
       "      <td>...</td>\n",
       "      <td>...</td>\n",
       "    </tr>\n",
       "    <tr>\n",
       "      <th>97</th>\n",
       "      <td>137</td>\n",
       "      <td>Легкий сериал, интересно посмотреть, чтобы отд...</td>\n",
       "      <td>4.0</td>\n",
       "    </tr>\n",
       "    <tr>\n",
       "      <th>98</th>\n",
       "      <td>138</td>\n",
       "      <td>Реалистично. Жёстко. Актёры - супер. Очень жаль.</td>\n",
       "      <td>5.0</td>\n",
       "    </tr>\n",
       "    <tr>\n",
       "      <th>99</th>\n",
       "      <td>139</td>\n",
       "      <td>Фильм сильный!!! Очень тяжёлая и несправедлива...</td>\n",
       "      <td>5.0</td>\n",
       "    </tr>\n",
       "    <tr>\n",
       "      <th>100</th>\n",
       "      <td>140</td>\n",
       "      <td>Реалистичный, без прикрас. Как есть, все показ...</td>\n",
       "      <td>4.0</td>\n",
       "    </tr>\n",
       "    <tr>\n",
       "      <th>101</th>\n",
       "      <td>141</td>\n",
       "      <td>Да уж, ну и история под пиво не пойдет</td>\n",
       "      <td>1.0</td>\n",
       "    </tr>\n",
       "  </tbody>\n",
       "</table>\n",
       "<p>102 rows × 3 columns</p>\n",
       "</div>"
      ],
      "text/plain": [
       "      id                                               text  beer_rating\n",
       "0      1  После просмотра этой дорамы я впервые подумал,...          9.0\n",
       "1      2  Алкоголь в этой дораме – не просто напиток, а ...          8.0\n",
       "2      3  Главные герои этой дорамы – настоящие ценители...          9.5\n",
       "3      4  Пивная тема в этой дораме раскрыта на высшем у...          9.0\n",
       "4      5  Эта дорама – настоящая ржачка! Персонажи знают...          8.5\n",
       "..   ...                                                ...          ...\n",
       "97   137  Легкий сериал, интересно посмотреть, чтобы отд...          4.0\n",
       "98   138   Реалистично. Жёстко. Актёры - супер. Очень жаль.          5.0\n",
       "99   139  Фильм сильный!!! Очень тяжёлая и несправедлива...          5.0\n",
       "100  140  Реалистичный, без прикрас. Как есть, все показ...          4.0\n",
       "101  141             Да уж, ну и история под пиво не пойдет          1.0\n",
       "\n",
       "[102 rows x 3 columns]"
      ]
     },
     "execution_count": 280,
     "metadata": {},
     "output_type": "execute_result"
    }
   ],
   "source": [
    "comments_train = pd.read_csv(r\"F:\\beeeer\\gan_comment\\comments_train.csv\")\n",
    "comments_train"
   ]
  },
  {
   "cell_type": "code",
   "execution_count": 281,
   "metadata": {},
   "outputs": [],
   "source": [
    "comments_train_copy = comments_train.copy()"
   ]
  },
  {
   "cell_type": "markdown",
   "metadata": {},
   "source": [
    "Удаляем эмоджи"
   ]
  },
  {
   "cell_type": "code",
   "execution_count": 282,
   "metadata": {},
   "outputs": [
    {
     "name": "stdout",
     "output_type": "stream",
     "text": [
      "  id                                               text beer_rating\n",
      "0  1  После просмотра этой дорамы я впервые подумал,...         9.0\n",
      "1  2  Алкоголь в этой дораме – не просто напиток, а ...         8.0\n",
      "2  3  Главные герои этой дорамы – настоящие ценители...         9.5\n",
      "3  4  Пивная тема в этой дораме раскрыта на высшем у...         9.0\n",
      "4  5  Эта дорама – настоящая ржачка! Персонажи знают...         8.5\n"
     ]
    }
   ],
   "source": [
    "import emoji\n",
    "import re\n",
    "import pandas as pd\n",
    "\n",
    "def remove_emoji(input_text):\n",
    "    cleaned_text = re.sub(r'(:[^:\\s]+:|[\\U00010000-\\U0010ffff])', '', input_text)\n",
    "    return cleaned_text\n",
    "\n",
    "comments_train_copy = comments_train_copy.applymap(lambda x: remove_emoji(str(x)))\n",
    "\n",
    "print(comments_train_copy.head())\n"
   ]
  },
  {
   "cell_type": "code",
   "execution_count": 283,
   "metadata": {},
   "outputs": [],
   "source": [
    "text = ''.join(comments_train_copy['text'].astype(str).tolist())\n",
    "\n",
    "vocab = sorted(set(text))\n",
    "char2idx = {u: i for i, u in enumerate(vocab)}\n",
    "idx2char = np.array(vocab)\n",
    "text_as_int = np.array([char2idx[c] for c in text])"
   ]
  },
  {
   "cell_type": "code",
   "execution_count": 284,
   "metadata": {},
   "outputs": [
    {
     "name": "stdout",
     "output_type": "stream",
     "text": [
      "Vocabulary size: 90\n",
      "Encoded text size: 17801\n"
     ]
    }
   ],
   "source": [
    "vocab_size = len(vocab)\n",
    "print(\"Vocabulary size:\", vocab_size)\n",
    "print(\"Encoded text size:\", len(text_as_int))"
   ]
  },
  {
   "cell_type": "code",
   "execution_count": 285,
   "metadata": {},
   "outputs": [
    {
     "name": "stdout",
     "output_type": "stream",
     "text": [
      "'После просмотра этой дорамы я впервые подумал, что пиво может стать главным персонажем. Алкогольная и'\n",
      "'нтрига, угарные сцены – просто ржака! Под пиво идеально!Алкоголь в этой дораме – не просто напиток, а'\n",
      "' настоящий проводник к угару и радостному безумию. Под пиво просматривается легко, рекомендую!Главные'\n",
      "' герои этой дорамы – настоящие ценители пива. Их приключения просто угарные, и каждая сцена – как под'\n",
      "' пиво, так и под сильный алкоголь!Пивная тема в этой дораме раскрыта на высшем уровне. Алкогольные пр'\n"
     ]
    }
   ],
   "source": [
    "seq_length = 100\n",
    "examples_per_epoch = len(text) // (seq_length + 1)\n",
    "\n",
    "char_dataset = tf.data.Dataset.from_tensor_slices(text_as_int)\n",
    "\n",
    "sequences = char_dataset.batch(seq_length + 1, drop_remainder=True)\n",
    "\n",
    "for item in sequences.take(5):\n",
    "    print(repr(''.join(idx2char[item.numpy()])))"
   ]
  },
  {
   "cell_type": "code",
   "execution_count": 286,
   "metadata": {},
   "outputs": [],
   "source": [
    "BATCH_SIZE = 1\n",
    "BUFFER_SIZE = 10000\n",
    "seq_length = 100\n",
    "examples_per_epoch = len(text_as_int) // (seq_length + 1)\n",
    "\n",
    "char_dataset = tf.data.Dataset.from_tensor_slices(text_as_int)\n",
    "sequences = char_dataset.batch(seq_length + 1, drop_remainder=True)\n",
    "\n",
    "vocab_size = len(vocab)\n",
    "embedding_dim = 256\n",
    "rnn_units = 1024\n",
    "rnn_units_2 = 512"
   ]
  },
  {
   "cell_type": "code",
   "execution_count": 287,
   "metadata": {},
   "outputs": [],
   "source": [
    "dataset = sequences.map(split_input_target)\n",
    "dataset = dataset.shuffle(BUFFER_SIZE).batch(BATCH_SIZE, drop_remainder=True)"
   ]
  },
  {
   "cell_type": "code",
   "execution_count": 288,
   "metadata": {},
   "outputs": [
    {
     "name": "stdout",
     "output_type": "stream",
     "text": [
      "Epoch 1/10\n"
     ]
    },
    {
     "name": "stdout",
     "output_type": "stream",
     "text": [
      "176/176 [==============================] - 125s 692ms/step - loss: 0.2403\n",
      "Epoch 2/10\n",
      "176/176 [==============================] - 119s 675ms/step - loss: 0.3315\n",
      "Epoch 3/10\n",
      "176/176 [==============================] - 118s 672ms/step - loss: 0.3292\n",
      "Epoch 4/10\n",
      "176/176 [==============================] - 119s 675ms/step - loss: 0.2754\n",
      "Epoch 5/10\n",
      "176/176 [==============================] - 119s 674ms/step - loss: 0.2316\n",
      "Epoch 6/10\n",
      "176/176 [==============================] - 120s 681ms/step - loss: 0.2037\n",
      "Epoch 7/10\n",
      "176/176 [==============================] - 119s 674ms/step - loss: 0.1767\n",
      "Epoch 8/10\n",
      "176/176 [==============================] - 123s 699ms/step - loss: 0.1720\n",
      "Epoch 9/10\n",
      "176/176 [==============================] - 126s 714ms/step - loss: 0.1726\n",
      "Epoch 10/10\n",
      "176/176 [==============================] - 119s 678ms/step - loss: 0.1683\n"
     ]
    }
   ],
   "source": [
    "import tensorflow as tf\n",
    "import os\n",
    "\n",
    "checkpoint_dir = './training_checkpoints'\n",
    "checkpoint_prefix = os.path.join(checkpoint_dir, \"ckpt_{epoch}\")\n",
    "\n",
    "model = tf.keras.Sequential([\n",
    "    tf.keras.layers.Embedding(vocab_size, embedding_dim, batch_input_shape=[BATCH_SIZE, None]),\n",
    "    tf.keras.layers.GRU(rnn_units, return_sequences=True, stateful=True, recurrent_initializer='glorot_uniform'),\n",
    "    tf.keras.layers.Dropout(0.2),  # Добавлен слой Dropout с коэффициентом отсева 0.2\n",
    "    tf.keras.layers.Dense(vocab_size)\n",
    "])\n",
    "\n",
    "def loss(labels, logits):\n",
    "    return tf.keras.losses.sparse_categorical_crossentropy(labels, logits, from_logits=True)\n",
    "\n",
    "model.compile(optimizer='adam', loss=loss)\n",
    "\n",
    "checkpoint_callback = tf.keras.callbacks.ModelCheckpoint(\n",
    "    filepath=checkpoint_prefix,\n",
    "    save_weights_only=True\n",
    ")\n",
    "\n",
    "latest_checkpoint = tf.train.latest_checkpoint(checkpoint_dir)\n",
    "if latest_checkpoint is not None:\n",
    "    model.load_weights(latest_checkpoint)\n",
    "\n",
    "epochs = 10\n",
    "\n",
    "history = model.fit(dataset, epochs=epochs, callbacks=[checkpoint_callback])\n",
    "\n"
   ]
  },
  {
   "cell_type": "code",
   "execution_count": 289,
   "metadata": {},
   "outputs": [
    {
     "name": "stdout",
     "output_type": "stream",
     "text": [
      "Модель содержит веса.\n"
     ]
    }
   ],
   "source": [
    "if model.weights:\n",
    "    print(\"Модель содержит веса.\")\n",
    "else:\n",
    "    print(\"Модель не содержит весов.\")"
   ]
  },
  {
   "cell_type": "code",
   "execution_count": 290,
   "metadata": {},
   "outputs": [
    {
     "name": "stdout",
     "output_type": "stream",
     "text": [
      "Model: \"sequential_20\"\n",
      "_________________________________________________________________\n",
      " Layer (type)                Output Shape              Param #   \n",
      "=================================================================\n",
      " embedding_17 (Embedding)    (1, None, 256)            23040     \n",
      "                                                                 \n",
      " gru_28 (GRU)                (1, None, 1024)           3938304   \n",
      "                                                                 \n",
      " dropout_1 (Dropout)         (1, None, 1024)           0         \n",
      "                                                                 \n",
      " dense_26 (Dense)            (1, None, 90)             92250     \n",
      "                                                                 \n",
      "=================================================================\n",
      "Total params: 4053594 (15.46 MB)\n",
      "Trainable params: 4053594 (15.46 MB)\n",
      "Non-trainable params: 0 (0.00 Byte)\n",
      "_________________________________________________________________\n"
     ]
    }
   ],
   "source": [
    "model.summary()"
   ]
  },
  {
   "cell_type": "code",
   "execution_count": 291,
   "metadata": {},
   "outputs": [
    {
     "name": "stderr",
     "output_type": "stream",
     "text": [
      "C:\\Users\\Ульяна\\AppData\\Roaming\\Python\\Python311\\site-packages\\keras\\src\\engine\\training.py:3103: UserWarning: You are saving your model as an HDF5 file via `model.save()`. This file format is considered legacy. We recommend using instead the native Keras format, e.g. `model.save('my_model.keras')`.\n",
      "  saving_api.save_model(\n"
     ]
    }
   ],
   "source": [
    "model.save('model_after_generation_0.h5')\n",
    "model.save_weights('model_after_weights.h5')"
   ]
  },
  {
   "cell_type": "code",
   "execution_count": 292,
   "metadata": {},
   "outputs": [
    {
     "name": "stdout",
     "output_type": "stream",
     "text": [
      "эта дорама с пуренаселением была бы ещё более серьёзной, как бы нам не хотелось, что бы таких людеко было интересно чем же всё закончится. Смотря триллер представляла что-то поэпичнее, сразу после просмотреть. О\n",
      "\n",
      "==================================================\n",
      "\n",
      "эта дорама скучна. Это повод для праздника. Алкоголь не спасает от неинтересных персонажей и нудно и ужасно скучно...жаль потраченного временифильм тронул до костяшек. очень душевно и искренне, не раскаят просмо\n",
      "\n",
      "==================================================\n",
      "\n",
      "эта дорама скучная, как стакан воды. Под пиво не стоит тратить время.Эта дорама - настоящий пивной рай! Алкогольные забавы персонажей наполняют каждую серию смехом и угаром. Под пиво смотрится легко и весело!Дор\n",
      "\n",
      "==================================================\n",
      "\n",
      "эта дорама с пивом. Под пиво смотрится легко и весело!Дорама, где пиво – самое то!Герои этой дорамы просто мостегом, что делает просмотр под пиво смотрится легко и весело!Дорама, где пиво – самое то!Герои этой д\n",
      "\n",
      "==================================================\n",
      "\n",
      "эта дорама с его участием и уже восхищаюсь актёрским мастерством. в наше время не редко бывают угарами смотрут смотреть что-то про психопатов с красивым лицом.МА ДОН СОК как вино с годами все лучше и пробелма с \n",
      "\n",
      "==================================================\n",
      "\n",
      "эта дорама с пиво, так и под сильный алкоголь!Пивная тема в этой дораме раскрыта на высшем уровне. Алкогольные приключения персонажей веселят до слез. Под пиво - отличный фильм! Каждый хорош на своем месте, это \n",
      "\n",
      "==================================================\n",
      "\n",
      "эта дорама скучна. Безственное пиво. Алкогольные сцены казались вычурными и лишенными отзывами. Фильм сидела в напряжении, ни минуты мне не было скучно. Я давно искала такое, чтоб мне по настоящему с водхот скуч\n",
      "\n",
      "==================================================\n",
      "\n",
      "эта дорама скучная, как стакан воды. Под пиво не смотреть. Осадочек, муть мутная…Наверно мат, для определенной как понерсней. Дорама, которая не стоит вашего внимания. Алкоголь здесь - единственное разочаровываю\n",
      "\n",
      "==================================================\n",
      "\n",
      "эта дорама скучна. Безнси для все же был не плох (но последняя сцена с родителями испортила все впечатление и явно было бы счастья, да несчастье помогло»… Показано  развитие  НАСТОЯЩИХ   чувств, а не, как во мно\n",
      "\n",
      "==================================================\n",
      "\n",
      "эта дорама сленую и душевно от просмотра очень грустно-всплако было интересно чем же всё закончится. Смотря триллер представляла что-то поэпичнее, сразу после просмотра этой дорамы я впервые подумал, что пиво мо\n",
      "\n",
      "==================================================\n",
      "\n"
     ]
    }
   ],
   "source": [
    "start_string = \"эта дорама \"\n",
    "for _ in range(10):\n",
    "    generated_text = generate_text(model, start_string=start_string, temp=0.5, gen_chars=200)\n",
    "    print(generated_text)\n",
    "    print(\"\\n\" + \"=\"*50 + \"\\n\")  # Добавить разделитель между комментариями\n"
   ]
  }
 ],
 "metadata": {
  "kernelspec": {
   "display_name": "Python 3 (ipykernel)",
   "language": "python",
   "name": "python3"
  },
  "language_info": {
   "codemirror_mode": {
    "name": "ipython",
    "version": 3
   },
   "file_extension": ".py",
   "mimetype": "text/x-python",
   "name": "python",
   "nbconvert_exporter": "python",
   "pygments_lexer": "ipython3",
   "version": "3.11.5"
  }
 },
 "nbformat": 4,
 "nbformat_minor": 2
}
