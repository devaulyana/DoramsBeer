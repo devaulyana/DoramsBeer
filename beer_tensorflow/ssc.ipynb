{
 "cells": [
  {
   "cell_type": "code",
   "execution_count": 28,
   "metadata": {},
   "outputs": [],
   "source": [
    "import pandas as pd\n",
    "from sklearn.model_selection import train_test_split\n",
    "from sklearn.feature_extraction.text import TfidfVectorizer\n",
    "from sklearn.svm import SVC\n",
    "from sklearn.metrics import accuracy_score\n",
    "from sklearn.feature_extraction.text import CountVectorizer\n",
    "from sklearn.svm import SVC"
   ]
  },
  {
   "cell_type": "code",
   "execution_count": 29,
   "metadata": {},
   "outputs": [
    {
     "name": "stdout",
     "output_type": "stream",
     "text": [
      "<class 'pandas.core.frame.DataFrame'>\n",
      "RangeIndex: 29837 entries, 0 to 29836\n",
      "Data columns (total 2 columns):\n",
      " #   Column   Non-Null Count  Dtype \n",
      "---  ------   --------------  ----- \n",
      " 0   comment  29837 non-null  object\n",
      " 1   id       29837 non-null  int64 \n",
      "dtypes: int64(1), object(1)\n",
      "memory usage: 466.3+ KB\n",
      "None\n"
     ]
    }
   ],
   "source": [
    "comments = pd.read_csv(r\"F:\\beeeer\\comments.csv\")\n",
    "print(comments.info())"
   ]
  },
  {
   "cell_type": "code",
   "execution_count": 30,
   "metadata": {},
   "outputs": [
    {
     "data": {
      "text/html": [
       "<div>\n",
       "<style scoped>\n",
       "    .dataframe tbody tr th:only-of-type {\n",
       "        vertical-align: middle;\n",
       "    }\n",
       "\n",
       "    .dataframe tbody tr th {\n",
       "        vertical-align: top;\n",
       "    }\n",
       "\n",
       "    .dataframe thead th {\n",
       "        text-align: right;\n",
       "    }\n",
       "</style>\n",
       "<table border=\"1\" class=\"dataframe\">\n",
       "  <thead>\n",
       "    <tr style=\"text-align: right;\">\n",
       "      <th></th>\n",
       "      <th>comment</th>\n",
       "      <th>id</th>\n",
       "    </tr>\n",
       "  </thead>\n",
       "  <tbody>\n",
       "    <tr>\n",
       "      <th>0</th>\n",
       "      <td>Отличный фильм! Без соплей, зомби-апокалипсис ...</td>\n",
       "      <td>73</td>\n",
       "    </tr>\n",
       "    <tr>\n",
       "      <th>1</th>\n",
       "      <td>На мой вкус, фильм поверхностный не хватило се...</td>\n",
       "      <td>74</td>\n",
       "    </tr>\n",
       "    <tr>\n",
       "      <th>2</th>\n",
       "      <td>Хорошая,милая, пересмотрю</td>\n",
       "      <td>74</td>\n",
       "    </tr>\n",
       "    <tr>\n",
       "      <th>3</th>\n",
       "      <td>мне понравилась 10/10</td>\n",
       "      <td>74</td>\n",
       "    </tr>\n",
       "    <tr>\n",
       "      <th>4</th>\n",
       "      <td>Даже зарегалась для того, чтобы сказать — манг...</td>\n",
       "      <td>74</td>\n",
       "    </tr>\n",
       "    <tr>\n",
       "      <th>...</th>\n",
       "      <td>...</td>\n",
       "      <td>...</td>\n",
       "    </tr>\n",
       "    <tr>\n",
       "      <th>29832</th>\n",
       "      <td>Прекрасная печальная любовь ? Корейцы лучшие в...</td>\n",
       "      <td>1294</td>\n",
       "    </tr>\n",
       "    <tr>\n",
       "      <th>29833</th>\n",
       "      <td>Если вы думаете , что эта дорама слишком хорош...</td>\n",
       "      <td>1294</td>\n",
       "    </tr>\n",
       "    <tr>\n",
       "      <th>29834</th>\n",
       "      <td>Как-то все уныло. До конца смотреть не стоит, ...</td>\n",
       "      <td>1294</td>\n",
       "    </tr>\n",
       "    <tr>\n",
       "      <th>29835</th>\n",
       "      <td>Очень понравился, поставила 10. Очень напомнил...</td>\n",
       "      <td>1294</td>\n",
       "    </tr>\n",
       "    <tr>\n",
       "      <th>29836</th>\n",
       "      <td>Красиво снято.Даже прослезилась</td>\n",
       "      <td>1294</td>\n",
       "    </tr>\n",
       "  </tbody>\n",
       "</table>\n",
       "<p>29837 rows × 2 columns</p>\n",
       "</div>"
      ],
      "text/plain": [
       "                                                 comment    id\n",
       "0      Отличный фильм! Без соплей, зомби-апокалипсис ...    73\n",
       "1      На мой вкус, фильм поверхностный не хватило се...    74\n",
       "2                              Хорошая,милая, пересмотрю    74\n",
       "3                                  мне понравилась 10/10    74\n",
       "4      Даже зарегалась для того, чтобы сказать — манг...    74\n",
       "...                                                  ...   ...\n",
       "29832  Прекрасная печальная любовь ? Корейцы лучшие в...  1294\n",
       "29833  Если вы думаете , что эта дорама слишком хорош...  1294\n",
       "29834  Как-то все уныло. До конца смотреть не стоит, ...  1294\n",
       "29835  Очень понравился, поставила 10. Очень напомнил...  1294\n",
       "29836                    Красиво снято.Даже прослезилась  1294\n",
       "\n",
       "[29837 rows x 2 columns]"
      ]
     },
     "execution_count": 30,
     "metadata": {},
     "output_type": "execute_result"
    }
   ],
   "source": [
    "data = comments.copy()\n",
    "data"
   ]
  },
  {
   "cell_type": "code",
   "execution_count": 31,
   "metadata": {},
   "outputs": [],
   "source": [
    "train_data, test_data = train_test_split(data, test_size=0.2, random_state=42)"
   ]
  },
  {
   "cell_type": "code",
   "execution_count": 32,
   "metadata": {},
   "outputs": [],
   "source": [
    "vectorizer = TfidfVectorizer(max_features=5000, stop_words='english')  # Выберите подходящие параметры\n",
    "X_train = vectorizer.fit_transform(train_data['comment'])\n",
    "X_test = vectorizer.transform(test_data['comment'])"
   ]
  },
  {
   "cell_type": "code",
   "execution_count": 33,
   "metadata": {},
   "outputs": [
    {
     "data": {
      "text/html": [
       "<div>\n",
       "<style scoped>\n",
       "    .dataframe tbody tr th:only-of-type {\n",
       "        vertical-align: middle;\n",
       "    }\n",
       "\n",
       "    .dataframe tbody tr th {\n",
       "        vertical-align: top;\n",
       "    }\n",
       "\n",
       "    .dataframe thead th {\n",
       "        text-align: right;\n",
       "    }\n",
       "</style>\n",
       "<table border=\"1\" class=\"dataframe\">\n",
       "  <thead>\n",
       "    <tr style=\"text-align: right;\">\n",
       "      <th></th>\n",
       "      <th>comment</th>\n",
       "      <th>id</th>\n",
       "      <th>beer_rating</th>\n",
       "    </tr>\n",
       "  </thead>\n",
       "  <tbody>\n",
       "    <tr>\n",
       "      <th>0</th>\n",
       "      <td>Отличный фильм! Без соплей, зомби-апокалипсис ...</td>\n",
       "      <td>73</td>\n",
       "      <td>8</td>\n",
       "    </tr>\n",
       "    <tr>\n",
       "      <th>1</th>\n",
       "      <td>На мой вкус, фильм поверхностный не хватило се...</td>\n",
       "      <td>74</td>\n",
       "      <td>2</td>\n",
       "    </tr>\n",
       "    <tr>\n",
       "      <th>2</th>\n",
       "      <td>Хорошая,милая, пересмотрю</td>\n",
       "      <td>74</td>\n",
       "      <td>6</td>\n",
       "    </tr>\n",
       "    <tr>\n",
       "      <th>3</th>\n",
       "      <td>мне понравилась 10/10</td>\n",
       "      <td>74</td>\n",
       "      <td>2</td>\n",
       "    </tr>\n",
       "    <tr>\n",
       "      <th>4</th>\n",
       "      <td>Даже зарегалась для того, чтобы сказать — манг...</td>\n",
       "      <td>74</td>\n",
       "      <td>8</td>\n",
       "    </tr>\n",
       "    <tr>\n",
       "      <th>...</th>\n",
       "      <td>...</td>\n",
       "      <td>...</td>\n",
       "      <td>...</td>\n",
       "    </tr>\n",
       "    <tr>\n",
       "      <th>29832</th>\n",
       "      <td>Прекрасная печальная любовь ? Корейцы лучшие в...</td>\n",
       "      <td>1294</td>\n",
       "      <td>4</td>\n",
       "    </tr>\n",
       "    <tr>\n",
       "      <th>29833</th>\n",
       "      <td>Если вы думаете , что эта дорама слишком хорош...</td>\n",
       "      <td>1294</td>\n",
       "      <td>4</td>\n",
       "    </tr>\n",
       "    <tr>\n",
       "      <th>29834</th>\n",
       "      <td>Как-то все уныло. До конца смотреть не стоит, ...</td>\n",
       "      <td>1294</td>\n",
       "      <td>4</td>\n",
       "    </tr>\n",
       "    <tr>\n",
       "      <th>29835</th>\n",
       "      <td>Очень понравился, поставила 10. Очень напомнил...</td>\n",
       "      <td>1294</td>\n",
       "      <td>1</td>\n",
       "    </tr>\n",
       "    <tr>\n",
       "      <th>29836</th>\n",
       "      <td>Красиво снято.Даже прослезилась</td>\n",
       "      <td>1294</td>\n",
       "      <td>2</td>\n",
       "    </tr>\n",
       "  </tbody>\n",
       "</table>\n",
       "<p>29837 rows × 3 columns</p>\n",
       "</div>"
      ],
      "text/plain": [
       "                                                 comment    id  beer_rating\n",
       "0      Отличный фильм! Без соплей, зомби-апокалипсис ...    73            8\n",
       "1      На мой вкус, фильм поверхностный не хватило се...    74            2\n",
       "2                              Хорошая,милая, пересмотрю    74            6\n",
       "3                                  мне понравилась 10/10    74            2\n",
       "4      Даже зарегалась для того, чтобы сказать — манг...    74            8\n",
       "...                                                  ...   ...          ...\n",
       "29832  Прекрасная печальная любовь ? Корейцы лучшие в...  1294            4\n",
       "29833  Если вы думаете , что эта дорама слишком хорош...  1294            4\n",
       "29834  Как-то все уныло. До конца смотреть не стоит, ...  1294            4\n",
       "29835  Очень понравился, поставила 10. Очень напомнил...  1294            1\n",
       "29836                    Красиво снято.Даже прослезилась  1294            2\n",
       "\n",
       "[29837 rows x 3 columns]"
      ]
     },
     "execution_count": 33,
     "metadata": {},
     "output_type": "execute_result"
    }
   ],
   "source": [
    "data['beer_rating'] = data['comment'].apply(lambda x: len(x) % 10 + 1)\n",
    "data"
   ]
  },
  {
   "cell_type": "code",
   "execution_count": 36,
   "metadata": {},
   "outputs": [],
   "source": [
    "vectorizer = CountVectorizer(max_features=5000)  # Выберите подходящие параметры\n",
    "X_train = vectorizer.fit_transform(train_data['comment'])\n",
    "X_test = vectorizer.transform(test_data['comment'])"
   ]
  },
  {
   "cell_type": "code",
   "execution_count": 38,
   "metadata": {},
   "outputs": [
    {
     "data": {
      "text/html": [
       "<style>#sk-container-id-1 {color: black;}#sk-container-id-1 pre{padding: 0;}#sk-container-id-1 div.sk-toggleable {background-color: white;}#sk-container-id-1 label.sk-toggleable__label {cursor: pointer;display: block;width: 100%;margin-bottom: 0;padding: 0.3em;box-sizing: border-box;text-align: center;}#sk-container-id-1 label.sk-toggleable__label-arrow:before {content: \"▸\";float: left;margin-right: 0.25em;color: #696969;}#sk-container-id-1 label.sk-toggleable__label-arrow:hover:before {color: black;}#sk-container-id-1 div.sk-estimator:hover label.sk-toggleable__label-arrow:before {color: black;}#sk-container-id-1 div.sk-toggleable__content {max-height: 0;max-width: 0;overflow: hidden;text-align: left;background-color: #f0f8ff;}#sk-container-id-1 div.sk-toggleable__content pre {margin: 0.2em;color: black;border-radius: 0.25em;background-color: #f0f8ff;}#sk-container-id-1 input.sk-toggleable__control:checked~div.sk-toggleable__content {max-height: 200px;max-width: 100%;overflow: auto;}#sk-container-id-1 input.sk-toggleable__control:checked~label.sk-toggleable__label-arrow:before {content: \"▾\";}#sk-container-id-1 div.sk-estimator input.sk-toggleable__control:checked~label.sk-toggleable__label {background-color: #d4ebff;}#sk-container-id-1 div.sk-label input.sk-toggleable__control:checked~label.sk-toggleable__label {background-color: #d4ebff;}#sk-container-id-1 input.sk-hidden--visually {border: 0;clip: rect(1px 1px 1px 1px);clip: rect(1px, 1px, 1px, 1px);height: 1px;margin: -1px;overflow: hidden;padding: 0;position: absolute;width: 1px;}#sk-container-id-1 div.sk-estimator {font-family: monospace;background-color: #f0f8ff;border: 1px dotted black;border-radius: 0.25em;box-sizing: border-box;margin-bottom: 0.5em;}#sk-container-id-1 div.sk-estimator:hover {background-color: #d4ebff;}#sk-container-id-1 div.sk-parallel-item::after {content: \"\";width: 100%;border-bottom: 1px solid gray;flex-grow: 1;}#sk-container-id-1 div.sk-label:hover label.sk-toggleable__label {background-color: #d4ebff;}#sk-container-id-1 div.sk-serial::before {content: \"\";position: absolute;border-left: 1px solid gray;box-sizing: border-box;top: 0;bottom: 0;left: 50%;z-index: 0;}#sk-container-id-1 div.sk-serial {display: flex;flex-direction: column;align-items: center;background-color: white;padding-right: 0.2em;padding-left: 0.2em;position: relative;}#sk-container-id-1 div.sk-item {position: relative;z-index: 1;}#sk-container-id-1 div.sk-parallel {display: flex;align-items: stretch;justify-content: center;background-color: white;position: relative;}#sk-container-id-1 div.sk-item::before, #sk-container-id-1 div.sk-parallel-item::before {content: \"\";position: absolute;border-left: 1px solid gray;box-sizing: border-box;top: 0;bottom: 0;left: 50%;z-index: -1;}#sk-container-id-1 div.sk-parallel-item {display: flex;flex-direction: column;z-index: 1;position: relative;background-color: white;}#sk-container-id-1 div.sk-parallel-item:first-child::after {align-self: flex-end;width: 50%;}#sk-container-id-1 div.sk-parallel-item:last-child::after {align-self: flex-start;width: 50%;}#sk-container-id-1 div.sk-parallel-item:only-child::after {width: 0;}#sk-container-id-1 div.sk-dashed-wrapped {border: 1px dashed gray;margin: 0 0.4em 0.5em 0.4em;box-sizing: border-box;padding-bottom: 0.4em;background-color: white;}#sk-container-id-1 div.sk-label label {font-family: monospace;font-weight: bold;display: inline-block;line-height: 1.2em;}#sk-container-id-1 div.sk-label-container {text-align: center;}#sk-container-id-1 div.sk-container {/* jupyter's `normalize.less` sets `[hidden] { display: none; }` but bootstrap.min.css set `[hidden] { display: none !important; }` so we also need the `!important` here to be able to override the default hidden behavior on the sphinx rendered scikit-learn.org. See: https://github.com/scikit-learn/scikit-learn/issues/21755 */display: inline-block !important;position: relative;}#sk-container-id-1 div.sk-text-repr-fallback {display: none;}</style><div id=\"sk-container-id-1\" class=\"sk-top-container\"><div class=\"sk-text-repr-fallback\"><pre>SVR(kernel=&#x27;linear&#x27;)</pre><b>In a Jupyter environment, please rerun this cell to show the HTML representation or trust the notebook. <br />On GitHub, the HTML representation is unable to render, please try loading this page with nbviewer.org.</b></div><div class=\"sk-container\" hidden><div class=\"sk-item\"><div class=\"sk-estimator sk-toggleable\"><input class=\"sk-toggleable__control sk-hidden--visually\" id=\"sk-estimator-id-1\" type=\"checkbox\" checked><label for=\"sk-estimator-id-1\" class=\"sk-toggleable__label sk-toggleable__label-arrow\">SVR</label><div class=\"sk-toggleable__content\"><pre>SVR(kernel=&#x27;linear&#x27;)</pre></div></div></div></div></div>"
      ],
      "text/plain": [
       "SVR(kernel='linear')"
      ]
     },
     "execution_count": 38,
     "metadata": {},
     "output_type": "execute_result"
    }
   ],
   "source": [
    "svm_regressor = SVR(kernel='linear')\n",
    "svm_regressor.fit(X_train, train_data['id'])"
   ]
  },
  {
   "cell_type": "code",
   "execution_count": 39,
   "metadata": {},
   "outputs": [],
   "source": [
    "beer_ratings_predictions = svm_regressor.predict(X_test)"
   ]
  },
  {
   "cell_type": "code",
   "execution_count": 40,
   "metadata": {},
   "outputs": [
    {
     "name": "stdout",
     "output_type": "stream",
     "text": [
      "Комментарий: Просто невероятный фильм!!! именно то, что я ожидала от просмотра! все время держит в напряжении, сидела как на иголках. поражает сила гг-ев в руках. идея просто супер, сюжет захватывающий, актеры и актрисы сыграли на все 100, полностью справились с ролью. посмотрела буквально на одном дыхании! очень счастлива что наткнулась на него и посмотрела. однозначно советую!\n",
      "Предсказанный пивной рейтинг: 227.29\n",
      "\n",
      "Комментарий: 3 фильм еще не вышел\n",
      "Предсказанный пивной рейтинг: 441.27\n",
      "\n",
      "Комментарий: Прекрасный фильм, когда хочется поплакать всегда его пересматриваю(раз 10точно) не предполагала что буду так сильно реветь. После фильма остается «осадок » на душе\n",
      "Предсказанный пивной рейтинг: 418.55\n",
      "\n",
      "Комментарий: Этот фильм не для всех. Кто-то может ничего в нём не видеть и сказать, что он скучный. А кто-то наоборот может найти для себя смысл или подчеркнуть что-то. Лично мне фильм понравился. Видимо для него нужно особенное настроение.\n",
      "Предсказанный пивной рейтинг: 509.16\n",
      "\n",
      "Комментарий: Когда хочешь дораму про катострофы, она лучшая. Может после этоц дорамы я даже похудею, к спорту тянет , но и дорамам тоже Если не любишь катострофы, дорама всё равно шикарная. Видео отрезок в ТикТоке, и посмотрела\n",
      "Предсказанный пивной рейтинг: 382.72\n",
      "\n",
      "Комментарий: Ребят я одна захотела посмотреть потому что увидела что эту дораму смотрел  Чимин ? ахаах\n",
      "Предсказанный пивной рейтинг: 395.53\n",
      "\n",
      "Комментарий: я в восторге от фильма. 10 из 10 однозначно! К озвучке быстро привыкла, знаете, когда на экране творится такое, тебе уже точно не до озвучки. А ЕЩЁ КИМ ДЖУН ПОХОЖ НА ДЖЕНО ИЗ NCT DREAM!\n",
      "Предсказанный пивной рейтинг: 380.16\n",
      "\n",
      "Комментарий: как трогательно\n",
      "Предсказанный пивной рейтинг: 436.48\n",
      "\n",
      "Комментарий: хороший фильм, трагичный, мальчик гл.герой настоящий мужчина, мужчина мечты\n",
      "Предсказанный пивной рейтинг: 482.65\n",
      "\n",
      "Комментарий: «Детей растят не законы, а общество»\\\n",
      "Жаль, но эти слова очень правдивы.\n",
      "Предсказанный пивной рейтинг: 425.86\n",
      "\n"
     ]
    }
   ],
   "source": [
    "for i in range(10):\n",
    "    print(f\"Комментарий: {test_data['comment'].iloc[i]}\")\n",
    "    print(f\"Предсказанный пивной рейтинг: {beer_ratings_predictions[i]:.2f}\\n\")"
   ]
  }
 ],
 "metadata": {
  "kernelspec": {
   "display_name": "Python 3 (ipykernel)",
   "language": "python",
   "name": "python3"
  },
  "language_info": {
   "codemirror_mode": {
    "name": "ipython",
    "version": 3
   },
   "file_extension": ".py",
   "mimetype": "text/x-python",
   "name": "python",
   "nbconvert_exporter": "python",
   "pygments_lexer": "ipython3",
   "version": "3.11.5"
  }
 },
 "nbformat": 4,
 "nbformat_minor": 2
}
