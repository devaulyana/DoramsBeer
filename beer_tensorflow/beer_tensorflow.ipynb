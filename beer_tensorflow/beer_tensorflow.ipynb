{
 "cells": [
  {
   "cell_type": "code",
   "execution_count": 1,
   "metadata": {},
   "outputs": [],
   "source": [
    "import numpy as np\n",
    "import pandas as pd\n",
    "import matplotlib.pyplot as plt\n",
    "drams = pd.read_csv(r\"F:\\beeeer\\block.csv\")"
   ]
  },
  {
   "cell_type": "code",
   "execution_count": 4,
   "metadata": {},
   "outputs": [
    {
     "name": "stdout",
     "output_type": "stream",
     "text": [
      "<class 'pandas.core.frame.DataFrame'>\n",
      "RangeIndex: 29837 entries, 0 to 29836\n",
      "Data columns (total 2 columns):\n",
      " #   Column   Non-Null Count  Dtype \n",
      "---  ------   --------------  ----- \n",
      " 0   comment  29837 non-null  object\n",
      " 1   id       29837 non-null  int64 \n",
      "dtypes: int64(1), object(1)\n",
      "memory usage: 466.3+ KB\n",
      "None\n"
     ]
    }
   ],
   "source": [
    "comments = pd.read_csv(r\"F:\\beeeer\\comments.csv\")\n",
    "commentscopy = comments.copy()\n",
    "print(comments.info())"
   ]
  },
  {
   "cell_type": "code",
   "execution_count": 5,
   "metadata": {},
   "outputs": [
    {
     "name": "stdout",
     "output_type": "stream",
     "text": [
      "Количество заполненных значений в столбце 'comment': 29837\n"
     ]
    }
   ],
   "source": [
    "non_null_values_count = commentscopy['comment'].count()\n",
    "print(f\"Количество заполненных значений в столбце 'comment': {non_null_values_count}\")"
   ]
  },
  {
   "cell_type": "code",
   "execution_count": 6,
   "metadata": {},
   "outputs": [
    {
     "name": "stdout",
     "output_type": "stream",
     "text": [
      "Количество заполненных значений в столбце 'comment': 29837\n"
     ]
    },
    {
     "data": {
      "text/html": [
       "<div>\n",
       "<style scoped>\n",
       "    .dataframe tbody tr th:only-of-type {\n",
       "        vertical-align: middle;\n",
       "    }\n",
       "\n",
       "    .dataframe tbody tr th {\n",
       "        vertical-align: top;\n",
       "    }\n",
       "\n",
       "    .dataframe thead th {\n",
       "        text-align: right;\n",
       "    }\n",
       "</style>\n",
       "<table border=\"1\" class=\"dataframe\">\n",
       "  <thead>\n",
       "    <tr style=\"text-align: right;\">\n",
       "      <th></th>\n",
       "      <th>comment</th>\n",
       "      <th>id</th>\n",
       "    </tr>\n",
       "  </thead>\n",
       "  <tbody>\n",
       "    <tr>\n",
       "      <th>0</th>\n",
       "      <td>Отличный фильм! Без соплей, зомби-апокалипсис ...</td>\n",
       "      <td>73</td>\n",
       "    </tr>\n",
       "    <tr>\n",
       "      <th>1</th>\n",
       "      <td>На мой вкус, фильм поверхностный не хватило се...</td>\n",
       "      <td>74</td>\n",
       "    </tr>\n",
       "    <tr>\n",
       "      <th>2</th>\n",
       "      <td>Хорошая,милая, пересмотрю</td>\n",
       "      <td>74</td>\n",
       "    </tr>\n",
       "    <tr>\n",
       "      <th>3</th>\n",
       "      <td>мне понравилась 10/10</td>\n",
       "      <td>74</td>\n",
       "    </tr>\n",
       "    <tr>\n",
       "      <th>4</th>\n",
       "      <td>Даже зарегалась для того, чтобы сказать — манг...</td>\n",
       "      <td>74</td>\n",
       "    </tr>\n",
       "    <tr>\n",
       "      <th>...</th>\n",
       "      <td>...</td>\n",
       "      <td>...</td>\n",
       "    </tr>\n",
       "    <tr>\n",
       "      <th>29832</th>\n",
       "      <td>Прекрасная печальная любовь ? Корейцы лучшие в...</td>\n",
       "      <td>1294</td>\n",
       "    </tr>\n",
       "    <tr>\n",
       "      <th>29833</th>\n",
       "      <td>Если вы думаете , что эта дорама слишком хорош...</td>\n",
       "      <td>1294</td>\n",
       "    </tr>\n",
       "    <tr>\n",
       "      <th>29834</th>\n",
       "      <td>Как-то все уныло. До конца смотреть не стоит, ...</td>\n",
       "      <td>1294</td>\n",
       "    </tr>\n",
       "    <tr>\n",
       "      <th>29835</th>\n",
       "      <td>Очень понравился, поставила 10. Очень напомнил...</td>\n",
       "      <td>1294</td>\n",
       "    </tr>\n",
       "    <tr>\n",
       "      <th>29836</th>\n",
       "      <td>Красиво снято.Даже прослезилась</td>\n",
       "      <td>1294</td>\n",
       "    </tr>\n",
       "  </tbody>\n",
       "</table>\n",
       "<p>29837 rows × 2 columns</p>\n",
       "</div>"
      ],
      "text/plain": [
       "                                                 comment    id\n",
       "0      Отличный фильм! Без соплей, зомби-апокалипсис ...    73\n",
       "1      На мой вкус, фильм поверхностный не хватило се...    74\n",
       "2                              Хорошая,милая, пересмотрю    74\n",
       "3                                  мне понравилась 10/10    74\n",
       "4      Даже зарегалась для того, чтобы сказать — манг...    74\n",
       "...                                                  ...   ...\n",
       "29832  Прекрасная печальная любовь ? Корейцы лучшие в...  1294\n",
       "29833  Если вы думаете , что эта дорама слишком хорош...  1294\n",
       "29834  Как-то все уныло. До конца смотреть не стоит, ...  1294\n",
       "29835  Очень понравился, поставила 10. Очень напомнил...  1294\n",
       "29836                    Красиво снято.Даже прослезилась  1294\n",
       "\n",
       "[29837 rows x 2 columns]"
      ]
     },
     "execution_count": 6,
     "metadata": {},
     "output_type": "execute_result"
    }
   ],
   "source": [
    "non_null_values_count = comments['comment'].count()\n",
    "print(f\"Количество заполненных значений в столбце 'comment': {non_null_values_count}\")\n",
    "commentscopy"
   ]
  },
  {
   "cell_type": "code",
   "execution_count": 7,
   "metadata": {},
   "outputs": [
    {
     "ename": "FileNotFoundError",
     "evalue": "[Errno 2] No such file or directory: 'comments_correct.csv'",
     "output_type": "error",
     "traceback": [
      "\u001b[1;31m---------------------------------------------------------------------------\u001b[0m",
      "\u001b[1;31mFileNotFoundError\u001b[0m                         Traceback (most recent call last)",
      "Cell \u001b[1;32mIn[7], line 11\u001b[0m\n\u001b[0;32m      8\u001b[0m     \u001b[38;5;28;01mreturn\u001b[39;00m cleaned_text, matches\n\u001b[0;32m     10\u001b[0m \u001b[38;5;66;03m# Открываем файл для чтения\u001b[39;00m\n\u001b[1;32m---> 11\u001b[0m \u001b[38;5;28;01mwith\u001b[39;00m \u001b[38;5;28mopen\u001b[39m(\u001b[38;5;124m\"\u001b[39m\u001b[38;5;124mcomments_correct.csv\u001b[39m\u001b[38;5;124m\"\u001b[39m, \u001b[38;5;124m\"\u001b[39m\u001b[38;5;124mr\u001b[39m\u001b[38;5;124m\"\u001b[39m, encoding\u001b[38;5;241m=\u001b[39m\u001b[38;5;124m'\u001b[39m\u001b[38;5;124mutf-8\u001b[39m\u001b[38;5;124m'\u001b[39m, errors\u001b[38;5;241m=\u001b[39m\u001b[38;5;124m'\u001b[39m\u001b[38;5;124mreplace\u001b[39m\u001b[38;5;124m'\u001b[39m) \u001b[38;5;28;01mas\u001b[39;00m input_file:\n\u001b[0;32m     12\u001b[0m     \u001b[38;5;66;03m# Открываем новый файл для записи\u001b[39;00m\n\u001b[0;32m     13\u001b[0m     \u001b[38;5;28;01mwith\u001b[39;00m \u001b[38;5;28mopen\u001b[39m(\u001b[38;5;124m\"\u001b[39m\u001b[38;5;124mcomments_correct_clean.csv\u001b[39m\u001b[38;5;124m\"\u001b[39m, \u001b[38;5;124m\"\u001b[39m\u001b[38;5;124mw\u001b[39m\u001b[38;5;124m\"\u001b[39m, encoding\u001b[38;5;241m=\u001b[39m\u001b[38;5;124m'\u001b[39m\u001b[38;5;124mutf-8\u001b[39m\u001b[38;5;124m'\u001b[39m) \u001b[38;5;28;01mas\u001b[39;00m output_file:\n\u001b[0;32m     14\u001b[0m         \u001b[38;5;66;03m# Обрабатываем каждую строку входного файла\u001b[39;00m\n\u001b[0;32m     15\u001b[0m         total_removed \u001b[38;5;241m=\u001b[39m \u001b[38;5;241m0\u001b[39m\n",
      "File \u001b[1;32mC:\\PerfLogs\\Lib\\site-packages\\IPython\\core\\interactiveshell.py:286\u001b[0m, in \u001b[0;36m_modified_open\u001b[1;34m(file, *args, **kwargs)\u001b[0m\n\u001b[0;32m    279\u001b[0m \u001b[38;5;28;01mif\u001b[39;00m file \u001b[38;5;129;01min\u001b[39;00m {\u001b[38;5;241m0\u001b[39m, \u001b[38;5;241m1\u001b[39m, \u001b[38;5;241m2\u001b[39m}:\n\u001b[0;32m    280\u001b[0m     \u001b[38;5;28;01mraise\u001b[39;00m \u001b[38;5;167;01mValueError\u001b[39;00m(\n\u001b[0;32m    281\u001b[0m         \u001b[38;5;124mf\u001b[39m\u001b[38;5;124m\"\u001b[39m\u001b[38;5;124mIPython won\u001b[39m\u001b[38;5;124m'\u001b[39m\u001b[38;5;124mt let you open fd=\u001b[39m\u001b[38;5;132;01m{\u001b[39;00mfile\u001b[38;5;132;01m}\u001b[39;00m\u001b[38;5;124m by default \u001b[39m\u001b[38;5;124m\"\u001b[39m\n\u001b[0;32m    282\u001b[0m         \u001b[38;5;124m\"\u001b[39m\u001b[38;5;124mas it is likely to crash IPython. If you know what you are doing, \u001b[39m\u001b[38;5;124m\"\u001b[39m\n\u001b[0;32m    283\u001b[0m         \u001b[38;5;124m\"\u001b[39m\u001b[38;5;124myou can use builtins\u001b[39m\u001b[38;5;124m'\u001b[39m\u001b[38;5;124m open.\u001b[39m\u001b[38;5;124m\"\u001b[39m\n\u001b[0;32m    284\u001b[0m     )\n\u001b[1;32m--> 286\u001b[0m \u001b[38;5;28;01mreturn\u001b[39;00m io_open(file, \u001b[38;5;241m*\u001b[39margs, \u001b[38;5;241m*\u001b[39m\u001b[38;5;241m*\u001b[39mkwargs)\n",
      "\u001b[1;31mFileNotFoundError\u001b[0m: [Errno 2] No such file or directory: 'comments_correct.csv'"
     ]
    }
   ],
   "source": [
    "import emoji\n",
    "import re\n",
    "\n",
    "def remove_emoji(input_text):\n",
    "    # Заменяем все эмодзи на пустую строку и возвращаем их количество\n",
    "    matches = re.findall(r'(:[^:\\s]+:|[\\U00010000-\\U0010ffff])', input_text)\n",
    "    cleaned_text = re.sub(r'(:[^:\\s]+:|[\\U00010000-\\U0010ffff])', '', input_text)\n",
    "    return cleaned_text, matches\n",
    "\n",
    "# Открываем файл для чтения\n",
    "with open(\"comments_correct.csv\", \"r\", encoding='utf-8', errors='replace') as input_file:\n",
    "    # Открываем новый файл для записи\n",
    "    with open(\"comments_correct_clean.csv\", \"w\", encoding='utf-8') as output_file:\n",
    "        # Обрабатываем каждую строку входного файла\n",
    "        total_removed = 0\n",
    "        for line in input_file:\n",
    "            # Удаляем эмодзи из строки\n",
    "            cleaned_line, matches = remove_emoji(line)\n",
    "            total_removed += len(matches)\n",
    "            # Записываем очищенную строку в выходной файл\n",
    "            output_file.write(cleaned_line)\n",
    "\n",
    "print(f\"Очистка завершена. Удалено {total_removed} эмодзи.\")"
   ]
  }
 ],
 "metadata": {
  "kernelspec": {
   "display_name": "Python 3 (ipykernel)",
   "language": "python",
   "name": "python3"
  },
  "language_info": {
   "codemirror_mode": {
    "name": "ipython",
    "version": 3
   },
   "file_extension": ".py",
   "mimetype": "text/x-python",
   "name": "python",
   "nbconvert_exporter": "python",
   "pygments_lexer": "ipython3",
   "version": "3.11.5"
  }
 },
 "nbformat": 4,
 "nbformat_minor": 2
}
